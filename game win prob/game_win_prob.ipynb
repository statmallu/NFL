{
 "cells": [
  {
   "cell_type": "code",
   "execution_count": 1,
   "id": "05faf6e1",
   "metadata": {},
   "outputs": [],
   "source": [
    "import sqlite3\n",
    "import pandas as pd\n",
    "import matplotlib.pyplot as plt\n",
    "import matplotlib.patches as mpatches\n",
    "import numpy as np\n",
    "import sqlite3\n",
    "import pandas as pd\n",
    "import matplotlib.pyplot as plt\n",
    "import matplotlib.patches as mpatches\n",
    "import numpy as np\n"
   ]
  },
  {
   "cell_type": "code",
   "execution_count": 2,
   "id": "f4025436",
   "metadata": {},
   "outputs": [],
   "source": [
    "import warnings\n",
    "warnings.filterwarnings('ignore')"
   ]
  },
  {
   "cell_type": "code",
   "execution_count": 3,
   "id": "7a2ade36",
   "metadata": {},
   "outputs": [],
   "source": [
    "con =sqlite3.connect(\"C:\\\\Study\\\\1014\\\\1014\\\\NFL_Analysis\\\\nfl_2024.db\")\n",
    "\n",
    "sql_command = \"\"\"\n",
    "    select\n",
    "    a.gameId,a.playId,quarter,down,yardsToGo,\n",
    "    case when possessionTeam=homeTeamAbbr then \"home\" else \"visitor\" end as possessionTeam,\n",
    "    case when yardlineSide=homeTeamAbbr then \"home\" else \"visitor\" end as yardlineSide,\n",
    "    gameClock,preSnapHomeScore,preSnapVisitorScore,playResult,absoluteYardlineNumber,offenseFormation,defendersInTheBox,homeTeamWinProbabilityAdded,visitorTeamWinProbilityAdded, homeFinalScore,visitorFinalScore\n",
    "\n",
    "    from plays a\n",
    "    inner join games  b \n",
    "    on a.gameid=b.gameid\n",
    "    \"\"\"\n",
    "play=pd.read_sql_query(sql_command,con)\n",
    "con.close()"
   ]
  },
  {
   "cell_type": "code",
   "execution_count": 4,
   "id": "078ab3ce",
   "metadata": {},
   "outputs": [],
   "source": [
    "play['gameClock']= (max(pd.to_datetime(play['gameClock'])) - pd.to_datetime(play['gameClock'])).astype('timedelta64[ms]')/10000"
   ]
  },
  {
   "cell_type": "code",
   "execution_count": 5,
   "id": "87abf191",
   "metadata": {},
   "outputs": [
    {
     "data": {
      "text/plain": [
       "['gameId',\n",
       " 'playId',\n",
       " 'quarter',\n",
       " 'down',\n",
       " 'yardsToGo',\n",
       " 'possessionTeam',\n",
       " 'yardlineSide',\n",
       " 'gameClock',\n",
       " 'preSnapHomeScore',\n",
       " 'preSnapVisitorScore',\n",
       " 'playResult',\n",
       " 'absoluteYardlineNumber',\n",
       " 'offenseFormation',\n",
       " 'defendersInTheBox',\n",
       " 'homeTeamWinProbabilityAdded',\n",
       " 'visitorTeamWinProbilityAdded',\n",
       " 'homeFinalScore',\n",
       " 'visitorFinalScore']"
      ]
     },
     "execution_count": 5,
     "metadata": {},
     "output_type": "execute_result"
    }
   ],
   "source": [
    "play.columns.tolist()"
   ]
  },
  {
   "cell_type": "code",
   "execution_count": 6,
   "id": "58ea1db2",
   "metadata": {},
   "outputs": [],
   "source": [
    "#play.to_csv('../game win prob/data/play.csv',index=False)"
   ]
  },
  {
   "cell_type": "code",
   "execution_count": 7,
   "id": "008534c0",
   "metadata": {},
   "outputs": [
    {
     "data": {
      "text/html": [
       "<div>\n",
       "<style scoped>\n",
       "    .dataframe tbody tr th:only-of-type {\n",
       "        vertical-align: middle;\n",
       "    }\n",
       "\n",
       "    .dataframe tbody tr th {\n",
       "        vertical-align: top;\n",
       "    }\n",
       "\n",
       "    .dataframe thead th {\n",
       "        text-align: right;\n",
       "    }\n",
       "</style>\n",
       "<table border=\"1\" class=\"dataframe\">\n",
       "  <thead>\n",
       "    <tr style=\"text-align: right;\">\n",
       "      <th></th>\n",
       "      <th>gameId</th>\n",
       "      <th>playId</th>\n",
       "      <th>quarter</th>\n",
       "      <th>down</th>\n",
       "      <th>yardsToGo</th>\n",
       "      <th>possessionTeam</th>\n",
       "      <th>yardlineSide</th>\n",
       "      <th>gameClock</th>\n",
       "      <th>preSnapHomeScore</th>\n",
       "      <th>preSnapVisitorScore</th>\n",
       "      <th>playResult</th>\n",
       "      <th>absoluteYardlineNumber</th>\n",
       "      <th>offenseFormation</th>\n",
       "      <th>defendersInTheBox</th>\n",
       "      <th>homeTeamWinProbabilityAdded</th>\n",
       "      <th>visitorTeamWinProbilityAdded</th>\n",
       "      <th>homeFinalScore</th>\n",
       "      <th>visitorFinalScore</th>\n",
       "    </tr>\n",
       "  </thead>\n",
       "  <tbody>\n",
       "    <tr>\n",
       "      <th>0</th>\n",
       "      <td>2022100908</td>\n",
       "      <td>3537</td>\n",
       "      <td>4</td>\n",
       "      <td>1</td>\n",
       "      <td>10</td>\n",
       "      <td>visitor</td>\n",
       "      <td>visitor</td>\n",
       "      <td>2568.0</td>\n",
       "      <td>21</td>\n",
       "      <td>7</td>\n",
       "      <td>9</td>\n",
       "      <td>69</td>\n",
       "      <td>SHOTGUN</td>\n",
       "      <td>7.0</td>\n",
       "      <td>-0.006110</td>\n",
       "      <td>0.006110</td>\n",
       "      <td>21</td>\n",
       "      <td>15</td>\n",
       "    </tr>\n",
       "    <tr>\n",
       "      <th>1</th>\n",
       "      <td>2022091103</td>\n",
       "      <td>3126</td>\n",
       "      <td>4</td>\n",
       "      <td>1</td>\n",
       "      <td>10</td>\n",
       "      <td>visitor</td>\n",
       "      <td>visitor</td>\n",
       "      <td>2652.0</td>\n",
       "      <td>14</td>\n",
       "      <td>20</td>\n",
       "      <td>3</td>\n",
       "      <td>76</td>\n",
       "      <td>SHOTGUN</td>\n",
       "      <td>7.0</td>\n",
       "      <td>-0.010865</td>\n",
       "      <td>0.010865</td>\n",
       "      <td>20</td>\n",
       "      <td>23</td>\n",
       "    </tr>\n",
       "    <tr>\n",
       "      <th>2</th>\n",
       "      <td>2022091111</td>\n",
       "      <td>1148</td>\n",
       "      <td>2</td>\n",
       "      <td>2</td>\n",
       "      <td>5</td>\n",
       "      <td>visitor</td>\n",
       "      <td>visitor</td>\n",
       "      <td>2178.0</td>\n",
       "      <td>10</td>\n",
       "      <td>3</td>\n",
       "      <td>15</td>\n",
       "      <td>40</td>\n",
       "      <td>I_FORM</td>\n",
       "      <td>6.0</td>\n",
       "      <td>-0.037409</td>\n",
       "      <td>0.037409</td>\n",
       "      <td>24</td>\n",
       "      <td>19</td>\n",
       "    </tr>\n",
       "    <tr>\n",
       "      <th>3</th>\n",
       "      <td>2022100212</td>\n",
       "      <td>2007</td>\n",
       "      <td>3</td>\n",
       "      <td>2</td>\n",
       "      <td>10</td>\n",
       "      <td>visitor</td>\n",
       "      <td>visitor</td>\n",
       "      <td>648.0</td>\n",
       "      <td>19</td>\n",
       "      <td>16</td>\n",
       "      <td>7</td>\n",
       "      <td>47</td>\n",
       "      <td>SINGLEBACK</td>\n",
       "      <td>6.0</td>\n",
       "      <td>-0.002451</td>\n",
       "      <td>0.002451</td>\n",
       "      <td>32</td>\n",
       "      <td>23</td>\n",
       "    </tr>\n",
       "    <tr>\n",
       "      <th>4</th>\n",
       "      <td>2022091900</td>\n",
       "      <td>1372</td>\n",
       "      <td>2</td>\n",
       "      <td>1</td>\n",
       "      <td>10</td>\n",
       "      <td>home</td>\n",
       "      <td>visitor</td>\n",
       "      <td>2322.0</td>\n",
       "      <td>7</td>\n",
       "      <td>7</td>\n",
       "      <td>3</td>\n",
       "      <td>75</td>\n",
       "      <td>I_FORM</td>\n",
       "      <td>7.0</td>\n",
       "      <td>0.001053</td>\n",
       "      <td>-0.001053</td>\n",
       "      <td>41</td>\n",
       "      <td>7</td>\n",
       "    </tr>\n",
       "  </tbody>\n",
       "</table>\n",
       "</div>"
      ],
      "text/plain": [
       "       gameId  playId  quarter  down  yardsToGo possessionTeam yardlineSide  \\\n",
       "0  2022100908    3537        4     1         10        visitor      visitor   \n",
       "1  2022091103    3126        4     1         10        visitor      visitor   \n",
       "2  2022091111    1148        2     2          5        visitor      visitor   \n",
       "3  2022100212    2007        3     2         10        visitor      visitor   \n",
       "4  2022091900    1372        2     1         10           home      visitor   \n",
       "\n",
       "   gameClock  preSnapHomeScore  preSnapVisitorScore  playResult  \\\n",
       "0     2568.0                21                    7           9   \n",
       "1     2652.0                14                   20           3   \n",
       "2     2178.0                10                    3          15   \n",
       "3      648.0                19                   16           7   \n",
       "4     2322.0                 7                    7           3   \n",
       "\n",
       "   absoluteYardlineNumber offenseFormation  defendersInTheBox  \\\n",
       "0                      69          SHOTGUN                7.0   \n",
       "1                      76          SHOTGUN                7.0   \n",
       "2                      40           I_FORM                6.0   \n",
       "3                      47       SINGLEBACK                6.0   \n",
       "4                      75           I_FORM                7.0   \n",
       "\n",
       "   homeTeamWinProbabilityAdded  visitorTeamWinProbilityAdded  homeFinalScore  \\\n",
       "0                    -0.006110                      0.006110              21   \n",
       "1                    -0.010865                      0.010865              20   \n",
       "2                    -0.037409                      0.037409              24   \n",
       "3                    -0.002451                      0.002451              32   \n",
       "4                     0.001053                     -0.001053              41   \n",
       "\n",
       "   visitorFinalScore  \n",
       "0                 15  \n",
       "1                 23  \n",
       "2                 19  \n",
       "3                 23  \n",
       "4                  7  "
      ]
     },
     "execution_count": 7,
     "metadata": {},
     "output_type": "execute_result"
    }
   ],
   "source": [
    "play.head()"
   ]
  },
  {
   "cell_type": "code",
   "execution_count": 8,
   "id": "34f7485b",
   "metadata": {},
   "outputs": [],
   "source": [
    "#categorical data\n",
    "categorical_cols = ['quarter',\n",
    " 'down',\n",
    " 'possessionTeam',\n",
    " 'yardlineSide',\n",
    " 'offenseFormation'\n",
    " \n",
    " ] \n",
    "\n",
    "\n",
    "play_final=pd.get_dummies(play, columns = categorical_cols)"
   ]
  },
  {
   "cell_type": "code",
   "execution_count": 9,
   "id": "71dd3d9f",
   "metadata": {},
   "outputs": [],
   "source": [
    "play_final['home_win']=np.where(play_final.homeFinalScore>=play_final.visitorFinalScore,1,0)"
   ]
  },
  {
   "cell_type": "code",
   "execution_count": 10,
   "id": "eb2340e2",
   "metadata": {},
   "outputs": [
    {
     "data": {
      "text/plain": [
       "<bound method IndexOpsMixin.tolist of Index(['gameId', 'playId', 'yardsToGo', 'gameClock', 'preSnapHomeScore',\n",
       "       'preSnapVisitorScore', 'playResult', 'absoluteYardlineNumber',\n",
       "       'defendersInTheBox', 'homeTeamWinProbabilityAdded',\n",
       "       'visitorTeamWinProbilityAdded', 'homeFinalScore', 'visitorFinalScore',\n",
       "       'quarter_1', 'quarter_2', 'quarter_3', 'quarter_4', 'quarter_5',\n",
       "       'down_1', 'down_2', 'down_3', 'down_4', 'possessionTeam_home',\n",
       "       'possessionTeam_visitor', 'yardlineSide_home', 'yardlineSide_visitor',\n",
       "       'offenseFormation_EMPTY', 'offenseFormation_I_FORM',\n",
       "       'offenseFormation_JUMBO', 'offenseFormation_PISTOL',\n",
       "       'offenseFormation_SHOTGUN', 'offenseFormation_SINGLEBACK',\n",
       "       'offenseFormation_WILDCAT', 'home_win'],\n",
       "      dtype='object')>"
      ]
     },
     "execution_count": 10,
     "metadata": {},
     "output_type": "execute_result"
    }
   ],
   "source": [
    "play_final.columns.to_list"
   ]
  },
  {
   "cell_type": "code",
   "execution_count": 11,
   "id": "2f4eb564",
   "metadata": {},
   "outputs": [
    {
     "name": "stdout",
     "output_type": "stream",
     "text": [
      "gameId 0.0\n",
      "playId 0.0\n",
      "yardsToGo 0.0\n",
      "gameClock 0.0\n",
      "preSnapHomeScore 0.0\n",
      "preSnapVisitorScore 0.0\n",
      "playResult 0.0\n",
      "absoluteYardlineNumber 0.0\n",
      "defendersInTheBox 0.0004004485023226013\n",
      "homeTeamWinProbabilityAdded 0.0\n",
      "visitorTeamWinProbilityAdded 0.0\n",
      "homeFinalScore 0.0\n",
      "visitorFinalScore 0.0\n",
      "quarter_1 0.0\n",
      "quarter_2 0.0\n",
      "quarter_3 0.0\n",
      "quarter_4 0.0\n",
      "quarter_5 0.0\n",
      "down_1 0.0\n",
      "down_2 0.0\n",
      "down_3 0.0\n",
      "down_4 0.0\n",
      "possessionTeam_home 0.0\n",
      "possessionTeam_visitor 0.0\n",
      "yardlineSide_home 0.0\n",
      "yardlineSide_visitor 0.0\n",
      "offenseFormation_EMPTY 0.0\n",
      "offenseFormation_I_FORM 0.0\n",
      "offenseFormation_JUMBO 0.0\n",
      "offenseFormation_PISTOL 0.0\n",
      "offenseFormation_SHOTGUN 0.0\n",
      "offenseFormation_SINGLEBACK 0.0\n",
      "offenseFormation_WILDCAT 0.0\n",
      "home_win 0.0\n"
     ]
    }
   ],
   "source": [
    "for col in play_final.columns.tolist():\n",
    "    val_col=[]\n",
    "    na_prc= play_final[col].isnull().sum()/len(play_final[col])\n",
    "    print(col, str(na_prc))\n"
   ]
  },
  {
   "cell_type": "code",
   "execution_count": 12,
   "id": "4d82cf55",
   "metadata": {},
   "outputs": [
    {
     "data": {
      "text/plain": [
       "((12486, 34), (12481, 34))"
      ]
     },
     "execution_count": 12,
     "metadata": {},
     "output_type": "execute_result"
    }
   ],
   "source": [
    "play_final.shape,play_final.dropna().shape"
   ]
  },
  {
   "cell_type": "code",
   "execution_count": 13,
   "id": "6ecd7dff",
   "metadata": {},
   "outputs": [],
   "source": [
    "play_final.dropna(inplace=True)"
   ]
  },
  {
   "cell_type": "code",
   "execution_count": null,
   "id": "0fac2c46",
   "metadata": {},
   "outputs": [],
   "source": []
  },
  {
   "cell_type": "code",
   "execution_count": 14,
   "id": "0637dc0d",
   "metadata": {},
   "outputs": [],
   "source": [
    "col_to_drop=['gameId', 'playId', 'homeTeamWinProbabilityAdded','visitorTeamWinProbilityAdded', 'homeFinalScore', 'visitorFinalScore']"
   ]
  },
  {
   "cell_type": "code",
   "execution_count": 15,
   "id": "2208d158",
   "metadata": {},
   "outputs": [],
   "source": [
    "from sklearn.preprocessing import MinMaxScaler\n",
    "scaler = MinMaxScaler()\n",
    "\n",
    "col_to_scale= ['yardsToGo','gameClock','preSnapHomeScore','preSnapVisitorScore','playResult', 'absoluteYardlineNumber','defendersInTheBox']\n",
    "play_final[col_to_scale]= scaler.fit_transform(play_final[col_to_scale])\n",
    "\n",
    "play_final_scale= play_final.drop(col_to_drop, axis=1)"
   ]
  },
  {
   "cell_type": "code",
   "execution_count": 16,
   "id": "69611c78",
   "metadata": {},
   "outputs": [
    {
     "data": {
      "text/html": [
       "<div>\n",
       "<style scoped>\n",
       "    .dataframe tbody tr th:only-of-type {\n",
       "        vertical-align: middle;\n",
       "    }\n",
       "\n",
       "    .dataframe tbody tr th {\n",
       "        vertical-align: top;\n",
       "    }\n",
       "\n",
       "    .dataframe thead th {\n",
       "        text-align: right;\n",
       "    }\n",
       "</style>\n",
       "<table border=\"1\" class=\"dataframe\">\n",
       "  <thead>\n",
       "    <tr style=\"text-align: right;\">\n",
       "      <th></th>\n",
       "      <th>yardsToGo</th>\n",
       "      <th>gameClock</th>\n",
       "      <th>preSnapHomeScore</th>\n",
       "      <th>preSnapVisitorScore</th>\n",
       "      <th>playResult</th>\n",
       "      <th>absoluteYardlineNumber</th>\n",
       "      <th>defendersInTheBox</th>\n",
       "      <th>quarter_1</th>\n",
       "      <th>quarter_2</th>\n",
       "      <th>quarter_3</th>\n",
       "      <th>...</th>\n",
       "      <th>yardlineSide_home</th>\n",
       "      <th>yardlineSide_visitor</th>\n",
       "      <th>offenseFormation_EMPTY</th>\n",
       "      <th>offenseFormation_I_FORM</th>\n",
       "      <th>offenseFormation_JUMBO</th>\n",
       "      <th>offenseFormation_PISTOL</th>\n",
       "      <th>offenseFormation_SHOTGUN</th>\n",
       "      <th>offenseFormation_SINGLEBACK</th>\n",
       "      <th>offenseFormation_WILDCAT</th>\n",
       "      <th>home_win</th>\n",
       "    </tr>\n",
       "  </thead>\n",
       "  <tbody>\n",
       "    <tr>\n",
       "      <th>0</th>\n",
       "      <td>0.243243</td>\n",
       "      <td>0.476085</td>\n",
       "      <td>0.428571</td>\n",
       "      <td>0.145833</td>\n",
       "      <td>0.440252</td>\n",
       "      <td>0.591837</td>\n",
       "      <td>0.6</td>\n",
       "      <td>0</td>\n",
       "      <td>0</td>\n",
       "      <td>0</td>\n",
       "      <td>...</td>\n",
       "      <td>0</td>\n",
       "      <td>1</td>\n",
       "      <td>0</td>\n",
       "      <td>0</td>\n",
       "      <td>0</td>\n",
       "      <td>0</td>\n",
       "      <td>1</td>\n",
       "      <td>0</td>\n",
       "      <td>0</td>\n",
       "      <td>1</td>\n",
       "    </tr>\n",
       "    <tr>\n",
       "      <th>1</th>\n",
       "      <td>0.243243</td>\n",
       "      <td>0.491657</td>\n",
       "      <td>0.285714</td>\n",
       "      <td>0.416667</td>\n",
       "      <td>0.402516</td>\n",
       "      <td>0.663265</td>\n",
       "      <td>0.6</td>\n",
       "      <td>0</td>\n",
       "      <td>0</td>\n",
       "      <td>0</td>\n",
       "      <td>...</td>\n",
       "      <td>0</td>\n",
       "      <td>1</td>\n",
       "      <td>0</td>\n",
       "      <td>0</td>\n",
       "      <td>0</td>\n",
       "      <td>0</td>\n",
       "      <td>1</td>\n",
       "      <td>0</td>\n",
       "      <td>0</td>\n",
       "      <td>0</td>\n",
       "    </tr>\n",
       "    <tr>\n",
       "      <th>2</th>\n",
       "      <td>0.108108</td>\n",
       "      <td>0.403782</td>\n",
       "      <td>0.204082</td>\n",
       "      <td>0.062500</td>\n",
       "      <td>0.477987</td>\n",
       "      <td>0.295918</td>\n",
       "      <td>0.5</td>\n",
       "      <td>0</td>\n",
       "      <td>1</td>\n",
       "      <td>0</td>\n",
       "      <td>...</td>\n",
       "      <td>0</td>\n",
       "      <td>1</td>\n",
       "      <td>0</td>\n",
       "      <td>1</td>\n",
       "      <td>0</td>\n",
       "      <td>0</td>\n",
       "      <td>0</td>\n",
       "      <td>0</td>\n",
       "      <td>0</td>\n",
       "      <td>1</td>\n",
       "    </tr>\n",
       "    <tr>\n",
       "      <th>3</th>\n",
       "      <td>0.243243</td>\n",
       "      <td>0.120133</td>\n",
       "      <td>0.387755</td>\n",
       "      <td>0.333333</td>\n",
       "      <td>0.427673</td>\n",
       "      <td>0.367347</td>\n",
       "      <td>0.5</td>\n",
       "      <td>0</td>\n",
       "      <td>0</td>\n",
       "      <td>1</td>\n",
       "      <td>...</td>\n",
       "      <td>0</td>\n",
       "      <td>1</td>\n",
       "      <td>0</td>\n",
       "      <td>0</td>\n",
       "      <td>0</td>\n",
       "      <td>0</td>\n",
       "      <td>0</td>\n",
       "      <td>1</td>\n",
       "      <td>0</td>\n",
       "      <td>1</td>\n",
       "    </tr>\n",
       "    <tr>\n",
       "      <th>4</th>\n",
       "      <td>0.243243</td>\n",
       "      <td>0.430478</td>\n",
       "      <td>0.142857</td>\n",
       "      <td>0.145833</td>\n",
       "      <td>0.402516</td>\n",
       "      <td>0.653061</td>\n",
       "      <td>0.6</td>\n",
       "      <td>0</td>\n",
       "      <td>1</td>\n",
       "      <td>0</td>\n",
       "      <td>...</td>\n",
       "      <td>0</td>\n",
       "      <td>1</td>\n",
       "      <td>0</td>\n",
       "      <td>1</td>\n",
       "      <td>0</td>\n",
       "      <td>0</td>\n",
       "      <td>0</td>\n",
       "      <td>0</td>\n",
       "      <td>0</td>\n",
       "      <td>1</td>\n",
       "    </tr>\n",
       "  </tbody>\n",
       "</table>\n",
       "<p>5 rows × 28 columns</p>\n",
       "</div>"
      ],
      "text/plain": [
       "   yardsToGo  gameClock  preSnapHomeScore  preSnapVisitorScore  playResult  \\\n",
       "0   0.243243   0.476085          0.428571             0.145833    0.440252   \n",
       "1   0.243243   0.491657          0.285714             0.416667    0.402516   \n",
       "2   0.108108   0.403782          0.204082             0.062500    0.477987   \n",
       "3   0.243243   0.120133          0.387755             0.333333    0.427673   \n",
       "4   0.243243   0.430478          0.142857             0.145833    0.402516   \n",
       "\n",
       "   absoluteYardlineNumber  defendersInTheBox  quarter_1  quarter_2  quarter_3  \\\n",
       "0                0.591837                0.6          0          0          0   \n",
       "1                0.663265                0.6          0          0          0   \n",
       "2                0.295918                0.5          0          1          0   \n",
       "3                0.367347                0.5          0          0          1   \n",
       "4                0.653061                0.6          0          1          0   \n",
       "\n",
       "   ...  yardlineSide_home  yardlineSide_visitor  offenseFormation_EMPTY  \\\n",
       "0  ...                  0                     1                       0   \n",
       "1  ...                  0                     1                       0   \n",
       "2  ...                  0                     1                       0   \n",
       "3  ...                  0                     1                       0   \n",
       "4  ...                  0                     1                       0   \n",
       "\n",
       "   offenseFormation_I_FORM  offenseFormation_JUMBO  offenseFormation_PISTOL  \\\n",
       "0                        0                       0                        0   \n",
       "1                        0                       0                        0   \n",
       "2                        1                       0                        0   \n",
       "3                        0                       0                        0   \n",
       "4                        1                       0                        0   \n",
       "\n",
       "   offenseFormation_SHOTGUN  offenseFormation_SINGLEBACK  \\\n",
       "0                         1                            0   \n",
       "1                         1                            0   \n",
       "2                         0                            0   \n",
       "3                         0                            1   \n",
       "4                         0                            0   \n",
       "\n",
       "   offenseFormation_WILDCAT  home_win  \n",
       "0                         0         1  \n",
       "1                         0         0  \n",
       "2                         0         1  \n",
       "3                         0         1  \n",
       "4                         0         1  \n",
       "\n",
       "[5 rows x 28 columns]"
      ]
     },
     "execution_count": 16,
     "metadata": {},
     "output_type": "execute_result"
    }
   ],
   "source": [
    "play_final_scale.head()"
   ]
  },
  {
   "cell_type": "code",
   "execution_count": 17,
   "id": "16491f44",
   "metadata": {},
   "outputs": [],
   "source": [
    "X = play_final_scale.drop(['home_win'], axis=1)\n",
    "y = play_final_scale[['home_win']]"
   ]
  },
  {
   "cell_type": "code",
   "execution_count": 18,
   "id": "bc2417c7",
   "metadata": {},
   "outputs": [],
   "source": [
    "import numpy as np\n",
    "from sklearn.model_selection import cross_val_predict, KFold\n",
    "from sklearn.metrics import roc_auc_score\n",
    "\n",
    "def calculate_auc(model, X, y, n_splits=10):\n",
    "    kf = KFold(n_splits=n_splits, shuffle=True, random_state=42)\n",
    "    auc_scores = []\n",
    "    accuracy_score=[]\n",
    "    \n",
    "    for train_index, test_index in kf.split(X):\n",
    "        X_train, X_test, y_train, y_test = (X.iloc[train_index], \n",
    "                                            X.iloc[test_index], \n",
    "                                            y.iloc[train_index], \n",
    "                                            y.iloc[test_index])\n",
    "\n",
    "        model.fit(X_train, y_train)\n",
    "        y_pred = model.predict_proba(X_test)[:, 1]\n",
    "        \n",
    "        auc = roc_auc_score(y_test, y_pred)\n",
    "        auc_scores.append(auc)\n",
    "        \n",
    "        acc=model.score(X_test,y_test)\n",
    "        accuracy_score.append(acc)\n",
    "    \n",
    "    mean_auc = np.mean(auc_scores)\n",
    "    std_auc = np.std(auc_scores)\n",
    "    \n",
    "    #print(\"AUC scores:\", auc_scores)\n",
    "    print(\"Mean AUC:\", mean_auc)\n",
    "    print(\"Standard deviation of AUC:\", std_auc)\n",
    "    \n",
    "    #print(\"Accuracy:\", accuracy_score)\n",
    "    print(\"Mean Acc:\", np.mean(accuracy_score))\n",
    "    print(\"Standard deviation of acc:\", np.std(accuracy_score))\n",
    "    return auc_scores\n"
   ]
  },
  {
   "cell_type": "code",
   "execution_count": 19,
   "id": "9084e9c1",
   "metadata": {},
   "outputs": [],
   "source": [
    "#n fold validaton for logmodel, svm and random forest\n",
    "\n",
    "from sklearn.linear_model import LogisticRegression\n",
    "from sklearn import svm\n",
    "from sklearn.ensemble import RandomForestClassifier\n",
    "\n",
    "from sklearn.neural_network import MLPClassifier\n"
   ]
  },
  {
   "cell_type": "code",
   "execution_count": 20,
   "id": "359eca3c",
   "metadata": {},
   "outputs": [
    {
     "name": "stdout",
     "output_type": "stream",
     "text": [
      "Mean AUC: 0.7571653973522042\n",
      "Standard deviation of AUC: 0.01304921262425364\n",
      "Mean Acc: 0.6816767516577364\n",
      "Standard deviation of acc: 0.010933533578347449\n"
     ]
    }
   ],
   "source": [
    "lr=LogisticRegression()\n",
    "lr_auc=calculate_auc(lr, X, y, n_splits=10) "
   ]
  },
  {
   "cell_type": "code",
   "execution_count": 21,
   "id": "8e45501e",
   "metadata": {},
   "outputs": [
    {
     "name": "stdout",
     "output_type": "stream",
     "text": [
      "Mean AUC: 0.8165144018027852\n",
      "Standard deviation of AUC: 0.011268916246138974\n",
      "Mean Acc: 0.7287082229886473\n",
      "Standard deviation of acc: 0.01066407301076267\n"
     ]
    }
   ],
   "source": [
    "rf=RandomForestClassifier(n_estimators=40)\n",
    "rf_auc=calculate_auc(rf, X, y, n_splits=10) \n"
   ]
  },
  {
   "cell_type": "code",
   "execution_count": 22,
   "id": "a8a9214b",
   "metadata": {},
   "outputs": [
    {
     "name": "stdout",
     "output_type": "stream",
     "text": [
      "Mean AUC: 0.7503997517827481\n",
      "Standard deviation of AUC: 0.015471560934610487\n",
      "Mean Acc: 0.6797531615035618\n",
      "Standard deviation of acc: 0.01188665959217971\n"
     ]
    }
   ],
   "source": [
    "svm_model = svm.SVC(gamma='scale',probability=True)\n",
    "svm_auc=calculate_auc(svm_model, X, y, n_splits=10) "
   ]
  },
  {
   "cell_type": "code",
   "execution_count": 23,
   "id": "812656e9",
   "metadata": {},
   "outputs": [
    {
     "name": "stdout",
     "output_type": "stream",
     "text": [
      "Mean AUC: 0.765418701117967\n",
      "Standard deviation of AUC: 0.010645359465736054\n",
      "Mean Acc: 0.6842405976062902\n",
      "Standard deviation of acc: 0.010682175845691045\n"
     ]
    }
   ],
   "source": [
    "clf = MLPClassifier(hidden_layer_sizes=(100),random_state=1, max_iter=100)\n",
    "clf_auc=calculate_auc(clf, X, y, n_splits=10) "
   ]
  },
  {
   "cell_type": "code",
   "execution_count": 24,
   "id": "bbb5df90",
   "metadata": {},
   "outputs": [],
   "source": [
    "ense_auc=[*lr_auc, *rf_auc,*svm_auc,*clf_auc]"
   ]
  },
  {
   "cell_type": "code",
   "execution_count": 25,
   "id": "74c27281",
   "metadata": {},
   "outputs": [
    {
     "data": {
      "text/plain": [
       "(0.7723745630139262, 0.028986564694601685)"
      ]
     },
     "execution_count": 25,
     "metadata": {},
     "output_type": "execute_result"
    }
   ],
   "source": [
    "np.mean(ense_auc),np.std(ense_auc)"
   ]
  },
  {
   "cell_type": "code",
   "execution_count": 26,
   "id": "eac4dbbc",
   "metadata": {},
   "outputs": [
    {
     "data": {
      "text/html": [
       "<div>\n",
       "<style scoped>\n",
       "    .dataframe tbody tr th:only-of-type {\n",
       "        vertical-align: middle;\n",
       "    }\n",
       "\n",
       "    .dataframe tbody tr th {\n",
       "        vertical-align: top;\n",
       "    }\n",
       "\n",
       "    .dataframe thead th {\n",
       "        text-align: right;\n",
       "    }\n",
       "</style>\n",
       "<table border=\"1\" class=\"dataframe\">\n",
       "  <thead>\n",
       "    <tr style=\"text-align: right;\">\n",
       "      <th></th>\n",
       "      <th>gameId</th>\n",
       "      <th>playId</th>\n",
       "      <th>yardsToGo</th>\n",
       "      <th>gameClock</th>\n",
       "      <th>preSnapHomeScore</th>\n",
       "      <th>preSnapVisitorScore</th>\n",
       "      <th>playResult</th>\n",
       "      <th>absoluteYardlineNumber</th>\n",
       "      <th>defendersInTheBox</th>\n",
       "      <th>homeTeamWinProbabilityAdded</th>\n",
       "      <th>...</th>\n",
       "      <th>yardlineSide_home</th>\n",
       "      <th>yardlineSide_visitor</th>\n",
       "      <th>offenseFormation_EMPTY</th>\n",
       "      <th>offenseFormation_I_FORM</th>\n",
       "      <th>offenseFormation_JUMBO</th>\n",
       "      <th>offenseFormation_PISTOL</th>\n",
       "      <th>offenseFormation_SHOTGUN</th>\n",
       "      <th>offenseFormation_SINGLEBACK</th>\n",
       "      <th>offenseFormation_WILDCAT</th>\n",
       "      <th>home_win</th>\n",
       "    </tr>\n",
       "  </thead>\n",
       "  <tbody>\n",
       "    <tr>\n",
       "      <th>0</th>\n",
       "      <td>2022100908</td>\n",
       "      <td>3537</td>\n",
       "      <td>0.243243</td>\n",
       "      <td>0.476085</td>\n",
       "      <td>0.428571</td>\n",
       "      <td>0.145833</td>\n",
       "      <td>0.440252</td>\n",
       "      <td>0.591837</td>\n",
       "      <td>0.6</td>\n",
       "      <td>-0.006110</td>\n",
       "      <td>...</td>\n",
       "      <td>0</td>\n",
       "      <td>1</td>\n",
       "      <td>0</td>\n",
       "      <td>0</td>\n",
       "      <td>0</td>\n",
       "      <td>0</td>\n",
       "      <td>1</td>\n",
       "      <td>0</td>\n",
       "      <td>0</td>\n",
       "      <td>1</td>\n",
       "    </tr>\n",
       "    <tr>\n",
       "      <th>1</th>\n",
       "      <td>2022091103</td>\n",
       "      <td>3126</td>\n",
       "      <td>0.243243</td>\n",
       "      <td>0.491657</td>\n",
       "      <td>0.285714</td>\n",
       "      <td>0.416667</td>\n",
       "      <td>0.402516</td>\n",
       "      <td>0.663265</td>\n",
       "      <td>0.6</td>\n",
       "      <td>-0.010865</td>\n",
       "      <td>...</td>\n",
       "      <td>0</td>\n",
       "      <td>1</td>\n",
       "      <td>0</td>\n",
       "      <td>0</td>\n",
       "      <td>0</td>\n",
       "      <td>0</td>\n",
       "      <td>1</td>\n",
       "      <td>0</td>\n",
       "      <td>0</td>\n",
       "      <td>0</td>\n",
       "    </tr>\n",
       "    <tr>\n",
       "      <th>2</th>\n",
       "      <td>2022091111</td>\n",
       "      <td>1148</td>\n",
       "      <td>0.108108</td>\n",
       "      <td>0.403782</td>\n",
       "      <td>0.204082</td>\n",
       "      <td>0.062500</td>\n",
       "      <td>0.477987</td>\n",
       "      <td>0.295918</td>\n",
       "      <td>0.5</td>\n",
       "      <td>-0.037409</td>\n",
       "      <td>...</td>\n",
       "      <td>0</td>\n",
       "      <td>1</td>\n",
       "      <td>0</td>\n",
       "      <td>1</td>\n",
       "      <td>0</td>\n",
       "      <td>0</td>\n",
       "      <td>0</td>\n",
       "      <td>0</td>\n",
       "      <td>0</td>\n",
       "      <td>1</td>\n",
       "    </tr>\n",
       "    <tr>\n",
       "      <th>3</th>\n",
       "      <td>2022100212</td>\n",
       "      <td>2007</td>\n",
       "      <td>0.243243</td>\n",
       "      <td>0.120133</td>\n",
       "      <td>0.387755</td>\n",
       "      <td>0.333333</td>\n",
       "      <td>0.427673</td>\n",
       "      <td>0.367347</td>\n",
       "      <td>0.5</td>\n",
       "      <td>-0.002451</td>\n",
       "      <td>...</td>\n",
       "      <td>0</td>\n",
       "      <td>1</td>\n",
       "      <td>0</td>\n",
       "      <td>0</td>\n",
       "      <td>0</td>\n",
       "      <td>0</td>\n",
       "      <td>0</td>\n",
       "      <td>1</td>\n",
       "      <td>0</td>\n",
       "      <td>1</td>\n",
       "    </tr>\n",
       "    <tr>\n",
       "      <th>4</th>\n",
       "      <td>2022091900</td>\n",
       "      <td>1372</td>\n",
       "      <td>0.243243</td>\n",
       "      <td>0.430478</td>\n",
       "      <td>0.142857</td>\n",
       "      <td>0.145833</td>\n",
       "      <td>0.402516</td>\n",
       "      <td>0.653061</td>\n",
       "      <td>0.6</td>\n",
       "      <td>0.001053</td>\n",
       "      <td>...</td>\n",
       "      <td>0</td>\n",
       "      <td>1</td>\n",
       "      <td>0</td>\n",
       "      <td>1</td>\n",
       "      <td>0</td>\n",
       "      <td>0</td>\n",
       "      <td>0</td>\n",
       "      <td>0</td>\n",
       "      <td>0</td>\n",
       "      <td>1</td>\n",
       "    </tr>\n",
       "  </tbody>\n",
       "</table>\n",
       "<p>5 rows × 34 columns</p>\n",
       "</div>"
      ],
      "text/plain": [
       "       gameId  playId  yardsToGo  gameClock  preSnapHomeScore  \\\n",
       "0  2022100908    3537   0.243243   0.476085          0.428571   \n",
       "1  2022091103    3126   0.243243   0.491657          0.285714   \n",
       "2  2022091111    1148   0.108108   0.403782          0.204082   \n",
       "3  2022100212    2007   0.243243   0.120133          0.387755   \n",
       "4  2022091900    1372   0.243243   0.430478          0.142857   \n",
       "\n",
       "   preSnapVisitorScore  playResult  absoluteYardlineNumber  defendersInTheBox  \\\n",
       "0             0.145833    0.440252                0.591837                0.6   \n",
       "1             0.416667    0.402516                0.663265                0.6   \n",
       "2             0.062500    0.477987                0.295918                0.5   \n",
       "3             0.333333    0.427673                0.367347                0.5   \n",
       "4             0.145833    0.402516                0.653061                0.6   \n",
       "\n",
       "   homeTeamWinProbabilityAdded  ...  yardlineSide_home  yardlineSide_visitor  \\\n",
       "0                    -0.006110  ...                  0                     1   \n",
       "1                    -0.010865  ...                  0                     1   \n",
       "2                    -0.037409  ...                  0                     1   \n",
       "3                    -0.002451  ...                  0                     1   \n",
       "4                     0.001053  ...                  0                     1   \n",
       "\n",
       "   offenseFormation_EMPTY  offenseFormation_I_FORM  offenseFormation_JUMBO  \\\n",
       "0                       0                        0                       0   \n",
       "1                       0                        0                       0   \n",
       "2                       0                        1                       0   \n",
       "3                       0                        0                       0   \n",
       "4                       0                        1                       0   \n",
       "\n",
       "   offenseFormation_PISTOL  offenseFormation_SHOTGUN  \\\n",
       "0                        0                         1   \n",
       "1                        0                         1   \n",
       "2                        0                         0   \n",
       "3                        0                         0   \n",
       "4                        0                         0   \n",
       "\n",
       "   offenseFormation_SINGLEBACK  offenseFormation_WILDCAT  home_win  \n",
       "0                            0                         0         1  \n",
       "1                            0                         0         0  \n",
       "2                            0                         0         1  \n",
       "3                            1                         0         1  \n",
       "4                            0                         0         1  \n",
       "\n",
       "[5 rows x 34 columns]"
      ]
     },
     "execution_count": 26,
     "metadata": {},
     "output_type": "execute_result"
    }
   ],
   "source": [
    "play_final.head()"
   ]
  },
  {
   "cell_type": "code",
   "execution_count": 27,
   "id": "96172586",
   "metadata": {},
   "outputs": [],
   "source": [
    "LAC_vs_JAX = play_final[play_final.gameId==2022092509]\n",
    "CAR_vs_CLE = play_final[play_final.gameId==2022091101]\n",
    "\n",
    "X_train= play_final[~play_final.gameId.isin([2022092509,2022091101])][X.columns]\n",
    "y_train= play_final[~play_final.gameId.isin([2022092509,2022091101])][y.columns]\n"
   ]
  },
  {
   "cell_type": "code",
   "execution_count": 28,
   "id": "8f0c415f",
   "metadata": {},
   "outputs": [
    {
     "data": {
      "text/plain": [
       "RandomForestClassifier(n_estimators=40)"
      ]
     },
     "execution_count": 28,
     "metadata": {},
     "output_type": "execute_result"
    }
   ],
   "source": [
    "rf=RandomForestClassifier(n_estimators=40)\n",
    "rf.fit(X_train,y_train)"
   ]
  },
  {
   "cell_type": "code",
   "execution_count": 29,
   "id": "ac06145e",
   "metadata": {},
   "outputs": [],
   "source": [
    "LAC_vs_JAX['home_win_pred_prob']= rf.predict_proba(LAC_vs_JAX[X.columns])[:,0]\n",
    "CAR_vs_CLE['home_win_pred_prob']= rf.predict_proba(CAR_vs_CLE[X.columns])[:,0]"
   ]
  },
  {
   "cell_type": "code",
   "execution_count": 30,
   "id": "27f185d3",
   "metadata": {},
   "outputs": [],
   "source": [
    "LAC_vs_JAX['visitor_win_pred_prob']= 1- LAC_vs_JAX['home_win_pred_prob']\n",
    "CAR_vs_CLE['visitor_win_pred_prob']= 1- CAR_vs_CLE['home_win_pred_prob']\n"
   ]
  },
  {
   "cell_type": "code",
   "execution_count": 31,
   "id": "35214f84",
   "metadata": {},
   "outputs": [
    {
     "data": {
      "image/png": "[encoded data removed]",
      "text/plain": [
       "<Figure size 640x480 with 1 Axes>"
      ]
     },
     "metadata": {},
     "output_type": "display_data"
    }
   ],
   "source": [
    "CAR_vs_CLE.sort_values(by=['playId'],inplace=True)\n",
    "plt.plot(CAR_vs_CLE.home_win_pred_prob.values)\n",
    "plt.plot(CAR_vs_CLE.visitor_win_pred_prob.values)\n",
    "\n",
    "plt.title('Game win probability\\n CAR (24) vs CLE (26)')\n",
    "plt.ylabel('prob')\n",
    "plt.xlabel('game play progress')\n",
    "plt.legend(['CAR', 'CLE'], loc='upper left')\n",
    "#plt.show()\n",
    "plt.savefig('../game win prob/output/CAR_vs_CLE.png')\n"
   ]
  },
  {
   "cell_type": "code",
   "execution_count": 32,
   "id": "aa26116b",
   "metadata": {},
   "outputs": [
    {
     "data": {
      "image/png": "[encoded data removed]",
      "text/plain": [
       "<Figure size 640x480 with 1 Axes>"
      ]
     },
     "metadata": {},
     "output_type": "display_data"
    }
   ],
   "source": [
    "LAC_vs_JAX.sort_values(by=['playId'],inplace=True)\n",
    "plt.plot(LAC_vs_JAX.home_win_pred_prob.values)\n",
    "plt.plot(LAC_vs_JAX.visitor_win_pred_prob.values)\n",
    "\n",
    "plt.title('Game win probability\\n LAC (10) vs JAX (36)')\n",
    "plt.ylabel('prob')\n",
    "plt.xlabel('game play progress')\n",
    "plt.legend(['LAC', 'JAX'], loc='upper left')\n",
    "#plt.show()\n",
    "plt.savefig('../game win prob/output/LAC_vs_JAX.png')\n"
   ]
  },
  {
   "cell_type": "code",
   "execution_count": null,
   "id": "15245fda",
   "metadata": {},
   "outputs": [],
   "source": []
  }
 ],
 "metadata": {
  "kernelspec": {
   "display_name": "Python 3 (ipykernel)",
   "language": "python",
   "name": "python3"
  },
  "language_info": {
   "codemirror_mode": {
    "name": "ipython",
    "version": 3
   },
   "file_extension": ".py",
   "mimetype": "text/x-python",
   "name": "python",
   "nbconvert_exporter": "python",
   "pygments_lexer": "ipython3",
   "version": "3.7.13"
  }
 },
 "nbformat": 4,
 "nbformat_minor": 5
}
