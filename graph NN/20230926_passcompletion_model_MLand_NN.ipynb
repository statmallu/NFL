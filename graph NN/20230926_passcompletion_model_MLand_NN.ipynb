{
 "cells": [
  {
   "cell_type": "code",
   "execution_count": 1,
   "id": "18176142",
   "metadata": {},
   "outputs": [
    {
     "ename": "ModuleNotFoundError",
     "evalue": "No module named 'simul_functions'",
     "output_type": "error",
     "traceback": [
      "\u001b[1;31m---------------------------------------------------------------------------\u001b[0m",
      "\u001b[1;31mModuleNotFoundError\u001b[0m                       Traceback (most recent call last)",
      "\u001b[1;32m~\\AppData\\Local\\Temp\\ipykernel_24480\\3817170022.py\u001b[0m in \u001b[0;36m<module>\u001b[1;34m\u001b[0m\n\u001b[0;32m      6\u001b[0m \u001b[1;32mimport\u001b[0m \u001b[0mseaborn\u001b[0m \u001b[1;32mas\u001b[0m \u001b[0msns\u001b[0m\u001b[1;33m\u001b[0m\u001b[1;33m\u001b[0m\u001b[0m\n\u001b[0;32m      7\u001b[0m \u001b[1;33m\u001b[0m\u001b[0m\n\u001b[1;32m----> 8\u001b[1;33m \u001b[1;32mimport\u001b[0m \u001b[0msimul_functions\u001b[0m \u001b[1;32mas\u001b[0m \u001b[0msf\u001b[0m\u001b[1;33m\u001b[0m\u001b[1;33m\u001b[0m\u001b[0m\n\u001b[0m",
      "\u001b[1;31mModuleNotFoundError\u001b[0m: No module named 'simul_functions'"
     ]
    }
   ],
   "source": [
    "import sqlite3\n",
    "import pandas as pd\n",
    "import matplotlib.pyplot as plt\n",
    "import matplotlib.patches as mpatches\n",
    "import numpy as np\n",
    "import seaborn as sns\n",
    "\n",
    "import simul_functions as sf\n"
   ]
  },
  {
   "cell_type": "code",
   "execution_count": null,
   "id": "9081e1d7",
   "metadata": {},
   "outputs": [],
   "source": [
    "dir= \"C:\\\\Study\\\\1014\\\\1014\\\\NFL_Analysis\\\\\""
   ]
  },
  {
   "cell_type": "code",
   "execution_count": null,
   "id": "f3bddf4c",
   "metadata": {},
   "outputs": [],
   "source": [
    "con =sqlite3.connect(dir+\"nfl_db.db\")\n",
    "\n",
    "sql_command = \"\"\"\n",
    "\n",
    "select c.*,possessionTeam,attacking_team FROM\n",
    "(\n",
    "select track.* from\n",
    "(\n",
    "    select pf.* from\n",
    "    (select gameId,playId,event,x,y,s,a,dir,\n",
    "    lag(x,1) over( PARTITION by gameId,playId,nflId order by time)xl1,\n",
    "    lag(y,1) over( PARTITION by gameId,playId,nflId order by time)yl1,\n",
    "    lag(x,2) over( PARTITION by gameId,playId,nflId order by time)xl2,\n",
    "    lag(y,2) over( PARTITION by gameId,playId,nflId order by time)yl2,\n",
    "    case when nflId is null then 'Ball' else substr(displayname,1,1)||substr(displayname,instr(displayname,' ')+1 ) end Name,nflId,position,team,playDirection\n",
    "    from \n",
    "    tracking_data)pf \n",
    "    where event='pass_forward'\n",
    ")track\n",
    "inner JOIN\n",
    "(\n",
    "select gameId,playId from tracking_data where event='pass_forward' GROUP by gameId,playId HAVING count(nflid)<=23--11+11+ball\n",
    ")one_event\n",
    "on track.gameId=one_event.gameId and track.playId=one_event.playId \n",
    ")c\n",
    "left JOIN\n",
    "(\n",
    "select A.*, \n",
    "case when possessionTeam=homeTeamAbbr then 'home' else 'away' end attacking_team\n",
    "from \n",
    "(select distinct gameId,playId,possessionTeam from play_data)A\n",
    "inner JOIN\n",
    "(select distinct gameid,homeTeamAbbr,visitorTeamAbbr from game_data)B\n",
    "on A.gameId=B.gameId\n",
    ")attack\n",
    "on c.gameId=ATTACk.gameId\n",
    "and c.playId=attack.playId\n",
    "\n",
    "\n",
    "\"\"\"\n",
    "td=pd.read_sql_query(sql_command,con)\n",
    "con.close()"
   ]
  },
  {
   "cell_type": "code",
   "execution_count": null,
   "id": "1d323357",
   "metadata": {},
   "outputs": [],
   "source": [
    "xp=pd.read_csv('C:\\\\Study\\\\1014\\\\1014\\\\pass_completion\\\\xp.csv')"
   ]
  },
  {
   "cell_type": "code",
   "execution_count": null,
   "id": "45799880",
   "metadata": {
    "scrolled": true
   },
   "outputs": [],
   "source": [
    "xp.head()"
   ]
  },
  {
   "cell_type": "code",
   "execution_count": null,
   "id": "c6849cba",
   "metadata": {},
   "outputs": [],
   "source": [
    "searchwords=['thrown away','Thrown away','threw away','throws ball away']\n",
    "xp['throw_away_pass']=np.where(xp['playDescription'].str.lower().str.findall('|'.join(searchwords)).str.len()>0,1,0 )\n",
    "xp[xp['throw_away_pass']==1].shape"
   ]
  },
  {
   "cell_type": "code",
   "execution_count": null,
   "id": "06ec216d",
   "metadata": {},
   "outputs": [],
   "source": [
    "xp=xp[xp['throw_away_pass']==0]"
   ]
  },
  {
   "cell_type": "code",
   "execution_count": null,
   "id": "a2935338",
   "metadata": {},
   "outputs": [],
   "source": []
  },
  {
   "cell_type": "code",
   "execution_count": null,
   "id": "2fd99de2",
   "metadata": {},
   "outputs": [],
   "source": [
    "valid_play=xp[['gameId','playId']].drop_duplicates()\n",
    "xp.shape,valid_play.shape"
   ]
  },
  {
   "cell_type": "code",
   "execution_count": null,
   "id": "abebde77",
   "metadata": {},
   "outputs": [],
   "source": []
  },
  {
   "cell_type": "code",
   "execution_count": null,
   "id": "335cc37e",
   "metadata": {},
   "outputs": [],
   "source": [
    "ball_position=td[td['Name']=='Ball'][['gameId','playId','x','y','s','a']]\n",
    "ball_position.head()"
   ]
  },
  {
   "cell_type": "code",
   "execution_count": null,
   "id": "8f65479b",
   "metadata": {},
   "outputs": [],
   "source": [
    "#table required in the following\n",
    "#attacking team\n",
    "    # att_tab1: ball and exp player\n",
    "    # att_tab2: ball and furthers 4 player \n",
    "    # att_tab3: ball and closest 2 players \n",
    "\n",
    "#Defence team\n",
    "    # def_tab1: ball and closest 2 players \n",
    "    # def_tab2: expected player and closest 4 players"
   ]
  },
  {
   "cell_type": "code",
   "execution_count": null,
   "id": "fe00b881",
   "metadata": {},
   "outputs": [],
   "source": [
    "#Calculating the attributes for expected player and ball\n",
    "\n",
    "expected_reciever_variables = td[td['team']==td['attacking_team']].merge(xp,how='inner',on=['gameId','playId','nflId'])\n",
    "expected_reciever_variables=expected_reciever_variables.merge(ball_position,how='inner',on=['gameId','playId'],suffixes=(None,'_ball'))\n",
    "expected_reciever_variables['d_ball_expR'] = np.sqrt((expected_reciever_variables['x']-expected_reciever_variables['x_ball'])**2+(expected_reciever_variables['y']-expected_reciever_variables['y_ball'])**2)\n",
    "\n",
    "expected_reciever_variables.shape,expected_reciever_variables[['gameId','playId']].drop_duplicates().shape\n"
   ]
  },
  {
   "cell_type": "code",
   "execution_count": null,
   "id": "a719f282",
   "metadata": {},
   "outputs": [],
   "source": [
    "expected_reciever_variables.columns "
   ]
  },
  {
   "cell_type": "code",
   "execution_count": null,
   "id": "d32d9c39",
   "metadata": {},
   "outputs": [],
   "source": [
    "att_tab1 =expected_reciever_variables[['gameId', 'playId', 'x', 'y', 's', 'a', 'dir', 'xl1', 'yl1', 'xl2',\n",
    "                                                         'yl2','x_ball', 'y_ball', 's_ball', 'a_ball','d_ball_expR']]\n",
    "\n",
    "new_names = [(i,'xp_'+i) for i in att_tab1.iloc[:, 2:11].columns.values]\n",
    "att_tab1.rename(columns = dict(new_names), inplace=True)\n",
    "att_tab1.head()"
   ]
  },
  {
   "cell_type": "code",
   "execution_count": null,
   "id": "e5d7357a",
   "metadata": {},
   "outputs": [],
   "source": [
    "att_tab1.xp_xl1.sum()"
   ]
  },
  {
   "cell_type": "code",
   "execution_count": null,
   "id": "f264fe41",
   "metadata": {},
   "outputs": [],
   "source": [
    "reciever_position=td[td['team']==td['attacking_team']].merge(valid_play,how='inner',on=['gameId','playId'])\n",
    "reciever_position=reciever_position.merge(ball_position,how='inner',on=['gameId','playId'],suffixes=(None,'_ball'))\n",
    "reciever_position['d_ball_attP'] = np.sqrt((reciever_position['x']-reciever_position['x_ball'])**2+(reciever_position['y']-reciever_position['y_ball'])**2)\n",
    "reciever_position['inv_order']=reciever_position.groupby(['gameId','playId'])['d_ball_attP'].rank('first',ascending=False).apply(int)\n",
    "reciever_position['order']=reciever_position.groupby(['gameId','playId'])['d_ball_attP'].rank('first').apply(int)\n",
    "\n",
    "reciever_position.head()"
   ]
  },
  {
   "cell_type": "code",
   "execution_count": null,
   "id": "60b8058b",
   "metadata": {},
   "outputs": [],
   "source": [
    "att_tab2=reciever_position[reciever_position['inv_order']<=4][['gameId', 'playId', 'x', 'y', 's', 'a', 'dir', 'xl1', 'yl1', 'xl2',\n",
    "                                                         'yl2','d_ball_attP','inv_order']]\n",
    "\n",
    "att_tab2['inv_order']=att_tab2['inv_order'].apply(str)\n",
    "\n",
    "att_tab2= att_tab2.pivot_table(index=['gameId','playId'],columns=['inv_order'],values=['x', 'y', 's', 'a', 'dir', 'xl1', 'yl1', 'xl2',\n",
    "                                                         'yl2','d_ball_attP'],aggfunc='first')\n",
    "\n",
    "att_tab2.columns = ['_fur_b2a_'.join(col) for col in att_tab2.columns.values]\n",
    "att_tab2=att_tab2.reset_index()\n",
    "att_tab2.head()"
   ]
  },
  {
   "cell_type": "code",
   "execution_count": null,
   "id": "67c797b1",
   "metadata": {},
   "outputs": [],
   "source": [
    "att_tab3=reciever_position[reciever_position['order']<=2][['gameId', 'playId', 'x', 'y', 's', 'a', 'dir', 'xl1', 'yl1', 'xl2',\n",
    "                                                         'yl2','d_ball_attP','order']]\n",
    "\n",
    "att_tab3['order']=att_tab3['order'].apply(str)\n",
    "\n",
    "att_tab3= att_tab3.pivot_table(index=['gameId','playId'],columns=['order'],values=['x', 'y', 's', 'a', 'dir', 'xl1', 'yl1', 'xl2',\n",
    "                                                         'yl2','d_ball_attP'],aggfunc='first')\n",
    "\n",
    "att_tab3.columns = ['_clos_b2a_'.join(col) for col in att_tab3.columns.values]\n",
    "att_tab3=att_tab3.reset_index()\n",
    "att_tab3.head()"
   ]
  },
  {
   "cell_type": "code",
   "execution_count": null,
   "id": "aaefad12",
   "metadata": {},
   "outputs": [],
   "source": [
    "defence_position=td[(td['team']!=td['attacking_team'])&(td['Name']!='Ball')].merge(valid_play,how='inner',on=['gameId','playId'])\n",
    "defence_position=defence_position.merge(ball_position,how='inner',on=['gameId','playId'],suffixes=(None,'_ball'))\n",
    "defence_position['d_ball_defP'] = np.sqrt((defence_position['x']-defence_position['x_ball'])**2+(defence_position['y']-defence_position['y_ball'])**2)\n",
    "defence_position['order']=defence_position.groupby(['gameId','playId'])['d_ball_defP'].rank('first').apply(int)\n",
    "\n",
    "defence_position.head()"
   ]
  },
  {
   "cell_type": "code",
   "execution_count": null,
   "id": "adf84c7d",
   "metadata": {},
   "outputs": [],
   "source": [
    "def_tab1=defence_position[defence_position['order']<=2][['gameId', 'playId', 'x', 'y', 's', 'a', 'dir', 'xl1', 'yl1', 'xl2',\n",
    "                                                         'yl2','d_ball_defP','order']]\n",
    "\n",
    "def_tab1['order']=def_tab1['order'].apply(str)\n",
    "\n",
    "def_tab1= def_tab1.pivot_table(index=['gameId','playId'],columns=['order'],values=['x', 'y', 's', 'a', 'dir', 'xl1', 'yl1', 'xl2',\n",
    "                                                         'yl2','d_ball_defP'],aggfunc='first')\n",
    "\n",
    "def_tab1.columns = ['_clos_b2d_'.join(col) for col in def_tab1.columns.values]\n",
    "def_tab1=def_tab1.reset_index()\n",
    "def_tab1.head()"
   ]
  },
  {
   "cell_type": "code",
   "execution_count": null,
   "id": "bac2452b",
   "metadata": {},
   "outputs": [],
   "source": [
    "defence_position=defence_position.merge(expected_reciever_variables[['gameId', 'playId','x', 'y']],how='inner',on=['gameId','playId'],suffixes=(None,'_xp'))\n",
    "defence_position['d_xp_defP'] = np.sqrt((defence_position['x']-defence_position['x_xp'])**2+(defence_position['y']-defence_position['y_xp'])**2)\n",
    "defence_position['order_xp']=defence_position.groupby(['gameId','playId'])['d_xp_defP'].rank('first').apply(int)\n",
    "\n",
    "defence_position.head()"
   ]
  },
  {
   "cell_type": "code",
   "execution_count": null,
   "id": "14c6478b",
   "metadata": {},
   "outputs": [],
   "source": [
    "def_tab2=defence_position[defence_position['order_xp']<=4][['gameId', 'playId', 'x', 'y', 's', 'a', 'dir', 'xl1', 'yl1', 'xl2',\n",
    "                                                         'yl2','d_xp_defP','order_xp']]\n",
    "\n",
    "def_tab2['order_xp']=def_tab2['order_xp'].apply(str)\n",
    "\n",
    "def_tab2= def_tab2.pivot_table(index=['gameId','playId'],columns=['order_xp'],values=['x', 'y', 's', 'a', 'dir', 'xl1', 'yl1', 'xl2',\n",
    "                                                         'yl2','d_xp_defP'],aggfunc='first')\n",
    "\n",
    "def_tab2.columns = ['_clos_xp2d_'.join(col) for col in def_tab2.columns.values]\n",
    "def_tab2=def_tab2.reset_index()\n",
    "def_tab2.head()"
   ]
  },
  {
   "cell_type": "code",
   "execution_count": null,
   "id": "df497ac7",
   "metadata": {},
   "outputs": [],
   "source": [
    "input_data=att_tab1.merge(att_tab2,how='inner',on=['gameId','playId'])\n",
    "input_data=input_data.merge(att_tab3,how='inner',on=['gameId','playId'])\n",
    "input_data=input_data.merge(def_tab1,how='inner',on=['gameId','playId'])\n",
    "input_data=input_data.merge(def_tab2,how='inner',on=['gameId','playId'])\n",
    "\n",
    "input_data.columns.values"
   ]
  },
  {
   "cell_type": "code",
   "execution_count": null,
   "id": "9a488625",
   "metadata": {},
   "outputs": [],
   "source": [
    "pass_events=xp[['gameId','playId','event']]\n",
    "pass_events.drop_duplicates(inplace=True)\n",
    "pass_events.dropna(inplace=True)\n",
    "pass_events['target']=np.where((pass_events['event']=='pass_outcome_caught')|(pass_events['event']=='pass_outcome_touchdown'),1,0)\n"
   ]
  },
  {
   "cell_type": "code",
   "execution_count": null,
   "id": "c4061b2e",
   "metadata": {},
   "outputs": [],
   "source": [
    "input_data=input_data.merge(pass_events[['gameId','playId','target']],how='inner',on=['gameId','playId'])"
   ]
  },
  {
   "cell_type": "code",
   "execution_count": null,
   "id": "44c78b91",
   "metadata": {},
   "outputs": [],
   "source": [
    "expl_var=['xp_x', 'xp_y', 'xp_s', 'xp_a', 'xp_dir',\n",
    "       'xp_xl1', 'xp_yl1', 'xp_xl2', 'xp_yl2', 'x_ball', 'y_ball',\n",
    "       's_ball', 'a_ball', 'd_ball_expR', 'a_fur_b2a_1', 'a_fur_b2a_2',\n",
    "       'a_fur_b2a_3', 'a_fur_b2a_4', 'd_ball_attP_fur_b2a_1',\n",
    "       'd_ball_attP_fur_b2a_2', 'd_ball_attP_fur_b2a_3',\n",
    "       'd_ball_attP_fur_b2a_4', 'dir_fur_b2a_1', 'dir_fur_b2a_2',\n",
    "       'dir_fur_b2a_3', 'dir_fur_b2a_4', 's_fur_b2a_1', 's_fur_b2a_2',\n",
    "       's_fur_b2a_3', 's_fur_b2a_4', 'x_fur_b2a_1', 'x_fur_b2a_2',\n",
    "       'x_fur_b2a_3', 'x_fur_b2a_4', 'xl1_fur_b2a_1', 'xl1_fur_b2a_2',\n",
    "       'xl1_fur_b2a_3', 'xl1_fur_b2a_4', 'xl2_fur_b2a_1', 'xl2_fur_b2a_2',\n",
    "       'xl2_fur_b2a_3', 'xl2_fur_b2a_4', 'y_fur_b2a_1', 'y_fur_b2a_2',\n",
    "       'y_fur_b2a_3', 'y_fur_b2a_4', 'yl1_fur_b2a_1', 'yl1_fur_b2a_2',\n",
    "       'yl1_fur_b2a_3', 'yl1_fur_b2a_4', 'yl2_fur_b2a_1', 'yl2_fur_b2a_2',\n",
    "       'yl2_fur_b2a_3', 'yl2_fur_b2a_4', 'a_clos_b2a_1', 'a_clos_b2a_2',\n",
    "       'd_ball_attP_clos_b2a_1', 'd_ball_attP_clos_b2a_2',\n",
    "       'dir_clos_b2a_1', 'dir_clos_b2a_2', 's_clos_b2a_1', 's_clos_b2a_2',\n",
    "       'x_clos_b2a_1', 'x_clos_b2a_2', 'xl1_clos_b2a_1', 'xl1_clos_b2a_2',\n",
    "       'xl2_clos_b2a_1', 'xl2_clos_b2a_2', 'y_clos_b2a_1', 'y_clos_b2a_2',\n",
    "       'yl1_clos_b2a_1', 'yl1_clos_b2a_2', 'yl2_clos_b2a_1',\n",
    "       'yl2_clos_b2a_2', 'a_clos_b2d_1', 'a_clos_b2d_2',\n",
    "       'd_ball_defP_clos_b2d_1', 'd_ball_defP_clos_b2d_2',\n",
    "       'dir_clos_b2d_1', 'dir_clos_b2d_2', 's_clos_b2d_1', 's_clos_b2d_2',\n",
    "       'x_clos_b2d_1', 'x_clos_b2d_2', 'xl1_clos_b2d_1', 'xl1_clos_b2d_2',\n",
    "       'xl2_clos_b2d_1', 'xl2_clos_b2d_2', 'y_clos_b2d_1', 'y_clos_b2d_2',\n",
    "       'yl1_clos_b2d_1', 'yl1_clos_b2d_2', 'yl2_clos_b2d_1',\n",
    "       'yl2_clos_b2d_2', 'a_clos_xp2d_1', 'a_clos_xp2d_2',\n",
    "       'a_clos_xp2d_3', 'a_clos_xp2d_4', 'd_xp_defP_clos_xp2d_1',\n",
    "       'd_xp_defP_clos_xp2d_2', 'd_xp_defP_clos_xp2d_3',\n",
    "       'd_xp_defP_clos_xp2d_4', 'dir_clos_xp2d_1', 'dir_clos_xp2d_2',\n",
    "       'dir_clos_xp2d_3', 'dir_clos_xp2d_4', 's_clos_xp2d_1',\n",
    "       's_clos_xp2d_2', 's_clos_xp2d_3', 's_clos_xp2d_4', 'x_clos_xp2d_1',\n",
    "       'x_clos_xp2d_2', 'x_clos_xp2d_3', 'x_clos_xp2d_4',\n",
    "       'xl1_clos_xp2d_1', 'xl1_clos_xp2d_2', 'xl1_clos_xp2d_3',\n",
    "       'xl1_clos_xp2d_4', 'xl2_clos_xp2d_1', 'xl2_clos_xp2d_2',\n",
    "       'xl2_clos_xp2d_3', 'xl2_clos_xp2d_4', 'y_clos_xp2d_1',\n",
    "       'y_clos_xp2d_2', 'y_clos_xp2d_3', 'y_clos_xp2d_4',\n",
    "       'yl1_clos_xp2d_1', 'yl1_clos_xp2d_2', 'yl1_clos_xp2d_3',\n",
    "       'yl1_clos_xp2d_4', 'yl2_clos_xp2d_1', 'yl2_clos_xp2d_2',\n",
    "       'yl2_clos_xp2d_3', 'yl2_clos_xp2d_4']"
   ]
  },
  {
   "cell_type": "code",
   "execution_count": null,
   "id": "5472e48b",
   "metadata": {},
   "outputs": [],
   "source": [
    "for col in input_data.columns.tolist():\n",
    "    val_col=[]\n",
    "    na_prc= input_data[col].isnull().sum()/len(input_data[col])\n",
    "    if na_prc>0.01: print(col, str(na_prc))"
   ]
  },
  {
   "cell_type": "code",
   "execution_count": null,
   "id": "6734767e",
   "metadata": {},
   "outputs": [],
   "source": [
    "input_data.shape,input_data.dropna().shape"
   ]
  },
  {
   "cell_type": "code",
   "execution_count": null,
   "id": "f624a07b",
   "metadata": {},
   "outputs": [],
   "source": [
    "input_data.dropna(inplace=True)"
   ]
  },
  {
   "cell_type": "code",
   "execution_count": null,
   "id": "b3d56ee1",
   "metadata": {},
   "outputs": [],
   "source": [
    "input_data.to_csv(\"input_data_135.csv\",index=False)"
   ]
  },
  {
   "cell_type": "code",
   "execution_count": null,
   "id": "8a30af04",
   "metadata": {},
   "outputs": [],
   "source": [
    "#This is only for an example for prediction in the paper\n",
    "input_data= input_data[~((input_data.gameId==2018123000)&(input_data.playId==2528))]"
   ]
  },
  {
   "cell_type": "code",
   "execution_count": null,
   "id": "8817db85",
   "metadata": {},
   "outputs": [],
   "source": [
    "from sklearn.preprocessing import LabelEncoder\n",
    "from keras.wrappers.scikit_learn import KerasClassifier\n",
    "from keras.utils import np_utils\n",
    "\n",
    "# for modeling\n",
    "from keras.models import Sequential\n",
    "from keras.layers import Dense, Dropout\n",
    "from keras.callbacks import EarlyStopping\n",
    "from keras.optimizers import Adam"
   ]
  },
  {
   "cell_type": "code",
   "execution_count": null,
   "id": "6a2d2f7d",
   "metadata": {},
   "outputs": [],
   "source": [
    "X = input_data[expl_var]\n",
    "y = input_data[['target']]\n"
   ]
  },
  {
   "cell_type": "code",
   "execution_count": null,
   "id": "273f3cd5",
   "metadata": {},
   "outputs": [],
   "source": [
    "from sklearn.preprocessing import MinMaxScaler\n",
    "from sklearn.model_selection import train_test_split\n",
    "\n",
    "scaler = MinMaxScaler()\n",
    "X_norm=scaler.fit_transform(X)"
   ]
  },
  {
   "cell_type": "code",
   "execution_count": null,
   "id": "2ce84503",
   "metadata": {},
   "outputs": [],
   "source": [
    "X_train, X_test, y_train, y_test = train_test_split(X_norm, y, test_size=0.2, random_state=0)"
   ]
  },
  {
   "cell_type": "code",
   "execution_count": null,
   "id": "ba0ee96b",
   "metadata": {},
   "outputs": [],
   "source": [
    "np.array(X_test).shape"
   ]
  },
  {
   "cell_type": "code",
   "execution_count": null,
   "id": "43e52c4e",
   "metadata": {},
   "outputs": [],
   "source": [
    "# build a model\n",
    "model = Sequential()\n",
    "model.add(Dense(16, input_shape=(X.shape[1],), activation='relu')) # Add an input shape! (features,)\n",
    "model.add(Dense(16, activation='relu'))\n",
    "model.add(Dense(1, activation='sigmoid'))\n",
    "model.summary() \n",
    "\n",
    "# compile the model\n",
    "model.compile(optimizer=Adam(learning_rate=1e-4), \n",
    "              loss='binary_crossentropy',\n",
    "              metrics=['accuracy'])\n",
    "\n",
    "# early stopping callback\n",
    "# This callback will stop the training when there is no improvement in  \n",
    "# the validation loss for 10 consecutive epochs.  \n",
    "es = EarlyStopping(monitor='val_accuracy', \n",
    "                                   mode='max', # don't minimize the accuracy!\n",
    "                                   patience=10,\n",
    "                                   restore_best_weights=True)\n",
    "\n",
    "# now we just update our model fit call\n",
    "history = model.fit(X_train,\n",
    "                    y_train,\n",
    "                    callbacks=[es],\n",
    "                    epochs=80, # you can set this to a big number!\n",
    "                    batch_size=10,\n",
    "                    validation_split=0.2,\n",
    "                    shuffle=True,\n",
    "                    verbose=1)"
   ]
  },
  {
   "cell_type": "code",
   "execution_count": null,
   "id": "f4550c3f",
   "metadata": {},
   "outputs": [],
   "source": [
    "history_dict = history.history\n",
    "# Learning curve(Loss)\n",
    "# let's see the training and validation loss by epoch\n",
    "\n",
    "# loss\n",
    "loss_values = history_dict['loss'] # you can change this\n",
    "val_loss_values = history_dict['val_loss'] # you can also change this\n",
    "\n",
    "# range of X (no. of epochs)\n",
    "epochs = range(1, len(loss_values) + 1) \n",
    "\n",
    "# plot\n",
    "plt.plot(epochs, loss_values, 'bo', label='Training loss')\n",
    "plt.plot(epochs, val_loss_values, 'orange', label='Validation loss')\n",
    "plt.title('Training and validation loss')\n",
    "plt.xlabel('Epochs')\n",
    "plt.ylabel('Loss')\n",
    "plt.legend()\n",
    "plt.show()"
   ]
  },
  {
   "cell_type": "code",
   "execution_count": null,
   "id": "9af78c6e",
   "metadata": {},
   "outputs": [],
   "source": [
    "# Learning curve(accuracy)\n",
    "# let's see the training and validation accuracy by epoch\n",
    "\n",
    "# accuracy\n",
    "acc = history.history['accuracy']\n",
    "val_acc = history.history['val_accuracy']\n",
    "\n",
    "# range of X (no. of epochs)\n",
    "epochs = range(1, len(acc) + 1)\n",
    "\n",
    "# plot\n",
    "# \"bo\" is for \"blue dot\"\n",
    "plt.plot(epochs, acc, 'bo', label='Training accuracy')\n",
    "# orange is for \"orange\"\n",
    "plt.plot(epochs, val_acc, 'orange', label='Validation accuracy')\n",
    "plt.title('Training and validation accuracy')\n",
    "plt.xlabel('Epochs')\n",
    "plt.ylabel('Accuracy')\n",
    "plt.legend()\n",
    "plt.show()\n",
    "\n",
    "# this is the max value - should correspond to\n",
    "# the HIGHEST train accuracy\n",
    "np.max(val_acc)"
   ]
  },
  {
   "cell_type": "code",
   "execution_count": null,
   "id": "27f9247a",
   "metadata": {},
   "outputs": [],
   "source": [
    "#n fold validaton for logmodel, svm and random forest\n",
    "\n",
    "from sklearn.linear_model import LogisticRegression\n",
    "from sklearn import svm\n",
    "from sklearn.ensemble import RandomForestClassifier\n",
    "\n",
    "from sklearn.neural_network import MLPClassifier\n"
   ]
  },
  {
   "cell_type": "code",
   "execution_count": null,
   "id": "3f09e59a",
   "metadata": {},
   "outputs": [],
   "source": [
    "rf=RandomForestClassifier(n_estimators=40)\n",
    "rf.fit(X_train,y_train)\n",
    "rf.score(X_test,y_test)"
   ]
  },
  {
   "cell_type": "code",
   "execution_count": null,
   "id": "0f581692",
   "metadata": {},
   "outputs": [],
   "source": [
    "svm_model = svm.SVC(gamma='scale')\n",
    "svm_model.fit(X_train, y_train) \n",
    "svm_model.score(X_test,y_test)\n"
   ]
  },
  {
   "cell_type": "code",
   "execution_count": null,
   "id": "e831cb43",
   "metadata": {},
   "outputs": [],
   "source": [
    "%%time\n",
    "clf = MLPClassifier(hidden_layer_sizes=(100),random_state=1, max_iter=80)\n",
    "clf.fit(X_train, y_train)\n",
    "clf.score(X_test,y_test)"
   ]
  },
  {
   "cell_type": "code",
   "execution_count": null,
   "id": "dea9307f",
   "metadata": {},
   "outputs": [],
   "source": [
    "import pickle\n",
    "\n",
    "# save\n",
    "with open('NN_model.pkl','wb') as f:\n",
    "    pickle.dump(clf,f)\n",
    "\n",
    "# load\n",
    "#with open('model.pkl', 'rb') as f:\n",
    "#    clf2 = pickle.load(f)\n",
    "#\n",
    "#clf2.predict(X[0:1])\n",
    "#\n",
    "#"
   ]
  },
  {
   "cell_type": "code",
   "execution_count": null,
   "id": "a342c88c",
   "metadata": {},
   "outputs": [],
   "source": [
    "import pickle\n",
    "scalerfile = 'NN_scaler.sav'\n",
    "pickle.dump(scaler, open(scalerfile, 'wb'))\n",
    "\n",
    "\n",
    "#import pickle\n",
    "#scalerfile = 'scaler.sav'\n",
    "#scaler = pickle.load(open(scalerfile, 'rb'))\n",
    "#test_scaled_set = scaler.transform(test_set)"
   ]
  },
  {
   "cell_type": "code",
   "execution_count": null,
   "id": "41152393",
   "metadata": {},
   "outputs": [],
   "source": [
    "from sklearn.model_selection import cross_val_score"
   ]
  },
  {
   "cell_type": "code",
   "execution_count": null,
   "id": "45689405",
   "metadata": {},
   "outputs": [],
   "source": [
    "folds=10\n",
    "scores_svm= cross_val_score(svm.SVC(gamma='scale'),X_norm,y,cv=folds)\n",
    "scores_rf= cross_val_score(RandomForestClassifier(n_estimators=40),X_norm,y,cv=folds)\n",
    "scores_nn= cross_val_score(clf,X_norm,y,cv=folds)\n",
    "\n"
   ]
  },
  {
   "cell_type": "code",
   "execution_count": null,
   "id": "fb2b6926",
   "metadata": {},
   "outputs": [],
   "source": [
    "print(\"Accuracy SVM: %0.2f (+/- %0.2f)\" % (scores_svm.mean(),scores_svm.std()*2))\n",
    "print(\"Accuracy RF : %0.2f (+/- %0.2f)\" % (scores_rf.mean(),scores_rf.std()*2))\n",
    "print(\"Accuracy NN : %0.2f (+/- %0.2f)\" % (scores_nn.mean(),scores_nn.std()*2))"
   ]
  },
  {
   "cell_type": "code",
   "execution_count": null,
   "id": "781479d1",
   "metadata": {},
   "outputs": [],
   "source": [
    "X = input_data[expl_var]\n",
    "y = input_data[['target']]\n",
    "X[expl_var]= scaler.fit_transform(X[expl_var])\n"
   ]
  },
  {
   "cell_type": "code",
   "execution_count": null,
   "id": "e46c60b0",
   "metadata": {},
   "outputs": [],
   "source": [
    "import numpy as np\n",
    "from sklearn.model_selection import cross_val_predict, KFold\n",
    "from sklearn.metrics import roc_auc_score\n",
    "\n",
    "def calculate_auc(model, X, y, n_splits=10):\n",
    "    kf = KFold(n_splits=n_splits, shuffle=True, random_state=42)\n",
    "    auc_scores = []\n",
    "    accuracy_score=[]\n",
    "    \n",
    "    for train_index, test_index in kf.split(X):\n",
    "        X_train, X_test, y_train, y_test = (X.iloc[train_index], \n",
    "                                            X.iloc[test_index], \n",
    "                                            y.iloc[train_index], \n",
    "                                            y.iloc[test_index])\n",
    "\n",
    "        model.fit(X_train, y_train)\n",
    "        y_pred = model.predict_proba(X_test)[:, 1]\n",
    "        \n",
    "        auc = roc_auc_score(y_test, y_pred)\n",
    "        auc_scores.append(auc)\n",
    "        \n",
    "        acc=model.score(X_test,y_test)\n",
    "        accuracy_score.append(acc)\n",
    "    \n",
    "    mean_auc = np.mean(auc_scores)\n",
    "    std_auc = np.std(auc_scores)\n",
    "    \n",
    "    #print(\"AUC scores:\", auc_scores)\n",
    "    print(\"Mean AUC:\", mean_auc)\n",
    "    print(\"Standard deviation of AUC:\", std_auc)\n",
    "    \n",
    "    #print(\"Accuracy:\", accuracy_score)\n",
    "    print(\"Mean Acc:\", np.mean(accuracy_score))\n",
    "    print(\"Standard deviation of acc:\", np.std(accuracy_score))\n",
    "    return auc_scores\n"
   ]
  },
  {
   "cell_type": "code",
   "execution_count": null,
   "id": "93a512b6",
   "metadata": {},
   "outputs": [],
   "source": [
    "#n fold validaton for logmodel, svm and random forest\n",
    "\n",
    "from sklearn.linear_model import LogisticRegression\n",
    "from sklearn import svm\n",
    "from sklearn.ensemble import RandomForestClassifier\n",
    "\n",
    "from sklearn.neural_network import MLPClassifier\n"
   ]
  },
  {
   "cell_type": "code",
   "execution_count": null,
   "id": "e68ff833",
   "metadata": {},
   "outputs": [],
   "source": [
    "lr=LogisticRegression()\n",
    "lr_auc=calculate_auc(lr, X, y, n_splits=10) "
   ]
  },
  {
   "cell_type": "code",
   "execution_count": null,
   "id": "51c22ccd",
   "metadata": {},
   "outputs": [],
   "source": [
    "rf=RandomForestClassifier(n_estimators=40)\n",
    "rf_auc=calculate_auc(rf, X, y, n_splits=10) \n"
   ]
  },
  {
   "cell_type": "code",
   "execution_count": null,
   "id": "bf5bbbad",
   "metadata": {},
   "outputs": [],
   "source": [
    "svm_model = svm.SVC(gamma='scale',probability=True)\n",
    "svm_auc=calculate_auc(svm_model, X, y, n_splits=10) "
   ]
  },
  {
   "cell_type": "code",
   "execution_count": null,
   "id": "6bf40f9b",
   "metadata": {},
   "outputs": [],
   "source": [
    "clf = MLPClassifier(hidden_layer_sizes=(100),random_state=1, max_iter=100)\n",
    "clf_auc=calculate_auc(clf, X, y, n_splits=10) "
   ]
  },
  {
   "cell_type": "code",
   "execution_count": null,
   "id": "ca2cbb45",
   "metadata": {},
   "outputs": [],
   "source": [
    "ense_auc=[*lr_auc, *rf_auc,*svm_auc,*clf_auc]"
   ]
  },
  {
   "cell_type": "code",
   "execution_count": null,
   "id": "324f2b6d",
   "metadata": {},
   "outputs": [],
   "source": [
    "np.mean(ense_auc),np.std(ense_auc)"
   ]
  },
  {
   "cell_type": "code",
   "execution_count": null,
   "id": "5fcbfa55",
   "metadata": {},
   "outputs": [],
   "source": []
  }
 ],
 "metadata": {
  "kernelspec": {
   "display_name": "Python 3 (ipykernel)",
   "language": "python",
   "name": "python3"
  },
  "language_info": {
   "codemirror_mode": {
    "name": "ipython",
    "version": 3
   },
   "file_extension": ".py",
   "mimetype": "text/x-python",
   "name": "python",
   "nbconvert_exporter": "python",
   "pygments_lexer": "ipython3",
   "version": "3.7.13"
  }
 },
 "nbformat": 4,
 "nbformat_minor": 5
}
