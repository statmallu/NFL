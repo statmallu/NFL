{
 "cells": [
  {
   "cell_type": "markdown",
   "id": "55a5f131",
   "metadata": {},
   "source": [
    "### In this notebook we are building and LSTM model to forecast the next positions of all the palyers in American Football:\n",
    "    # Step 1: Estimate the player attributes of the pass event. We break it down by the attacking team and defense team.\n",
    "    # Step 2: Convert the tabular data into a 3-D matrix for the LSTM- DL model \n",
    "    # Step 3: Define the model; train test and validation\n",
    "    # Step 4: Compare the predictions against the ground truth\n",
    "    "
   ]
  },
  {
   "cell_type": "code",
   "execution_count": 1,
   "id": "5c0da567",
   "metadata": {},
   "outputs": [],
   "source": [
    "import sqlite3\n",
    "import pandas as pd\n",
    "import matplotlib.pyplot as plt\n",
    "import matplotlib.patches as mpatches\n",
    "import numpy as np"
   ]
  },
  {
   "cell_type": "markdown",
   "id": "1b818d36",
   "metadata": {},
   "source": [
    "### Step1: \n",
    "We estimated the player attributed and saved it into the inputdata.csv file, we are reading it here as tabular format. Eill do the conversion in the next step "
   ]
  },
  {
   "cell_type": "code",
   "execution_count": 2,
   "id": "419c8c62",
   "metadata": {},
   "outputs": [],
   "source": [
    "inputdata= pd.read_csv('../data/processed/inputdata.csv')"
   ]
  },
  {
   "cell_type": "code",
   "execution_count": 3,
   "id": "91655105",
   "metadata": {},
   "outputs": [],
   "source": [
    "attack_col=['x_Attack_01','y_Attack_01','s_Attack_01','dbf_Attack_01',\n",
    "            'x_Attack_02','y_Attack_02','s_Attack_02','dbf_Attack_02',\n",
    "            'x_Attack_03','y_Attack_03','s_Attack_03','dbf_Attack_03',\n",
    "            'x_Attack_04','y_Attack_04','s_Attack_04','dbf_Attack_04',\n",
    "            'x_Attack_05','y_Attack_05','s_Attack_05','dbf_Attack_05',\n",
    "            'x_Attack_06','y_Attack_06','s_Attack_06','dbf_Attack_06', \n",
    "            'x_Attack_07','y_Attack_07','s_Attack_07','dbf_Attack_07',\n",
    "            'x_Attack_08','y_Attack_08','s_Attack_08','dbf_Attack_08',\n",
    "            'x_Attack_09','y_Attack_09','s_Attack_09','dbf_Attack_09',\n",
    "            'x_Attack_10','y_Attack_10','s_Attack_10','dbf_Attack_10',\n",
    "            'x_Attack_11','y_Attack_11','s_Attack_11','dbf_Attack_11'        \n",
    "           \n",
    "           ]\n",
    "\n",
    "defense_col=['x_Defense_01','y_Defense_01','s_Defense_01','dbf_Defense_01',\n",
    "             'x_Defense_02','y_Defense_02','s_Defense_02','dbf_Defense_02',\n",
    "             'x_Defense_03','y_Defense_03','s_Defense_03','dbf_Defense_03',\n",
    "             'x_Defense_04','y_Defense_04','s_Defense_04','dbf_Defense_04',\n",
    "             'x_Defense_05','y_Defense_05','s_Defense_05','dbf_Defense_05',\n",
    "             'x_Defense_06','y_Defense_06','s_Defense_06','dbf_Defense_06', \n",
    "             'x_Defense_07','y_Defense_07','s_Defense_07','dbf_Defense_07',\n",
    "             'x_Defense_08','y_Defense_08','s_Defense_08','dbf_Defense_08',\n",
    "             'x_Defense_09','y_Defense_09','s_Defense_09','dbf_Defense_09',\n",
    "             'x_Defense_10','y_Defense_10','s_Defense_10','dbf_Defense_10',\n",
    "             'x_Defense_11','y_Defense_11','s_Defense_11','dbf_Defense_11'\n",
    "            ]"
   ]
  },
  {
   "cell_type": "code",
   "execution_count": 4,
   "id": "a1695d8e",
   "metadata": {},
   "outputs": [
    {
     "data": {
      "text/plain": [
       "(279015, 88)"
      ]
     },
     "execution_count": 4,
     "metadata": {},
     "output_type": "execute_result"
    }
   ],
   "source": [
    "inputdata[attack_col+defense_col].dropna(axis=0).shape"
   ]
  },
  {
   "cell_type": "code",
   "execution_count": 5,
   "id": "a8adcdd3",
   "metadata": {},
   "outputs": [],
   "source": [
    "inputdata= inputdata[['time','gameId','playId']+attack_col+defense_col]\n",
    "inputdata.dropna(axis=0,inplace=True)"
   ]
  },
  {
   "cell_type": "markdown",
   "id": "079dcec0",
   "metadata": {},
   "source": [
    "### Step 1.1:\n",
    "Conver the tabular data an array of desired length of input sequence and forecast sequence. We are providing the last n values to the model to forecast the next m values"
   ]
  },
  {
   "cell_type": "code",
   "execution_count": 6,
   "id": "15b0473c",
   "metadata": {},
   "outputs": [],
   "source": [
    "def data_proc(data,seq_ln,forecast_ln):\n",
    "    X=[]\n",
    "    Y=[]\n",
    "    \n",
    "    start=0\n",
    "    end= seq_ln\n",
    "    forecast_end= seq_ln+forecast_ln    \n",
    "    \n",
    "    for n in range(data.shape[0]- (seq_ln+forecast_ln)):\n",
    "        \n",
    "        values=data.values\n",
    "        X.append(values[start:end].tolist())\n",
    "        Y.append(values[end:forecast_end].tolist())\n",
    "        \n",
    "        start+=1\n",
    "        end+=1\n",
    "        forecast_end+=1\n",
    "        \n",
    "    #X= np.reshape(X,(data.shape[0],seq_ln,1))\n",
    "    #Y= np.reshape(Y,(data.shape[0],forecast_ln,1))  \n",
    "    return X,Y"
   ]
  },
  {
   "cell_type": "code",
   "execution_count": 7,
   "id": "1339477a",
   "metadata": {},
   "outputs": [],
   "source": [
    "in_len=2\n",
    "out_len=30\n",
    "offense_past=[]\n",
    "offense_next =[]\n",
    "\n",
    "for gameid in inputdata.gameId.unique().tolist():\n",
    "    for playid in inputdata.playId.unique().tolist():\n",
    "        \n",
    "        offense_sq=inputdata[(inputdata['gameId']==gameid)&(inputdata['playId']==playid)][attack_col]\n",
    "        x,y= data_proc(offense_sq,in_len,out_len)\n",
    "        \n",
    "        offense_past.append(x)\n",
    "        offense_next.append(y)\n",
    "\n",
    "\n",
    "\n",
    "#defense_sq= inputdata[defense_col]\n",
    "#defense_past30, defense_next10= data_proc(defense_sq,30,10)"
   ]
  },
  {
   "cell_type": "code",
   "execution_count": 8,
   "id": "ca72f730",
   "metadata": {},
   "outputs": [
    {
     "data": {
      "text/plain": [
       "3"
      ]
     },
     "execution_count": 8,
     "metadata": {},
     "output_type": "execute_result"
    }
   ],
   "source": [
    "len(offense_past[0])"
   ]
  },
  {
   "cell_type": "markdown",
   "id": "ee535876",
   "metadata": {},
   "source": [
    "### Step 1.2:\n",
    " considering we are going to use the LSTM model, we need the data to be in format where the lag vaules (temporal relation of the data) are provided in a format where the model could undertsand it during the training process"
   ]
  },
  {
   "cell_type": "code",
   "execution_count": 9,
   "id": "670b50ce",
   "metadata": {},
   "outputs": [],
   "source": [
    "\n",
    "defense_past=[]\n",
    "defense_next =[]\n",
    "\n",
    "for gameid in inputdata.gameId.unique().tolist():\n",
    "    for playid in inputdata.playId.unique().tolist():\n",
    "        \n",
    "        defense_sq=inputdata[(inputdata['gameId']==gameid)&(inputdata['playId']==playid)][defense_col]\n",
    "        x,y= data_proc(defense_sq,in_len,out_len)\n",
    "        defense_past.append(x)\n",
    "        defense_next.append(y)\n",
    "\n",
    "\n",
    "\n",
    "#defense_sq= inputdata[defense_col]\n",
    "#defense_past30, defense_next10= data_proc(defense_sq,30,10)"
   ]
  },
  {
   "cell_type": "markdown",
   "id": "df782dbe",
   "metadata": {},
   "source": [
    "### Step2:\n",
    "Converting the input data to desired format (3-D)"
   ]
  },
  {
   "cell_type": "code",
   "execution_count": 10,
   "id": "b1724799",
   "metadata": {},
   "outputs": [],
   "source": [
    "def flatten(l):\n",
    "    return [item for sublist in l for item in sublist]"
   ]
  },
  {
   "cell_type": "code",
   "execution_count": 11,
   "id": "fc3434b8",
   "metadata": {},
   "outputs": [],
   "source": [
    "offense_past= flatten(offense_past)\n",
    "offense_next =flatten(offense_next)\n",
    "\n",
    "defense_past= flatten(defense_past)\n",
    "defense_next =flatten(defense_next)\n"
   ]
  },
  {
   "cell_type": "code",
   "execution_count": 12,
   "id": "73e383b9",
   "metadata": {},
   "outputs": [],
   "source": [
    "offense_past= np.array(offense_past)\n",
    "offense_next =np.array(offense_next)\n",
    "\n",
    "defense_past= np.array(defense_past)\n",
    "defense_next =np.array(defense_next)"
   ]
  },
  {
   "cell_type": "code",
   "execution_count": 13,
   "id": "57e9b4b7",
   "metadata": {},
   "outputs": [
    {
     "data": {
      "text/plain": [
       "((39423, 2, 44), (39423, 2, 44))"
      ]
     },
     "execution_count": 13,
     "metadata": {},
     "output_type": "execute_result"
    }
   ],
   "source": [
    "offense_past.shape,defense_past.shape"
   ]
  },
  {
   "cell_type": "code",
   "execution_count": 14,
   "id": "9424d2e9",
   "metadata": {},
   "outputs": [
    {
     "data": {
      "text/plain": [
       "(39423, 2, 88)"
      ]
     },
     "execution_count": 14,
     "metadata": {},
     "output_type": "execute_result"
    }
   ],
   "source": [
    "offense_defense_past =np.ones((offense_past.shape[0],offense_past.shape[1],offense_past.shape[2]+defense_past.shape[2]))\n",
    "for c in range(offense_past.shape[0]):\n",
    "    for t in range(offense_past.shape[1]):\n",
    "        offense_defense_past[c][t]= np.append(offense_past[c][t],defense_past[c][t])\n",
    "        \n",
    "offense_defense_past.shape\n",
    "\n"
   ]
  },
  {
   "cell_type": "code",
   "execution_count": 15,
   "id": "436c548e",
   "metadata": {},
   "outputs": [
    {
     "data": {
      "text/plain": [
       "(39423, 30, 22)"
      ]
     },
     "execution_count": 15,
     "metadata": {},
     "output_type": "execute_result"
    }
   ],
   "source": [
    "defence_target= np.ones((defense_next.shape[0],defense_next.shape[1],22)) #removing the speed and distance to ball value from the target data\n",
    "a= pd.Series(np.arange(0,44,4)).append(pd.Series(np.arange(1,44,4))).tolist()\n",
    "a.sort()\n",
    "\n",
    "for c in range(defense_next.shape[0]):\n",
    "    for t in range(defense_next.shape[1]):\n",
    "        defence_target[c][t]= defense_next[c][t][a]\n",
    "defence_target.shape"
   ]
  },
  {
   "cell_type": "markdown",
   "id": "b45a04d0",
   "metadata": {},
   "source": [
    "### Step2.1: Data is split into train-test-validation\n"
   ]
  },
  {
   "cell_type": "code",
   "execution_count": 16,
   "id": "eaaa3069",
   "metadata": {},
   "outputs": [],
   "source": [
    "from sklearn.model_selection import train_test_split\n"
   ]
  },
  {
   "cell_type": "code",
   "execution_count": 17,
   "id": "f566ae61",
   "metadata": {},
   "outputs": [
    {
     "data": {
      "text/plain": [
       "35480"
      ]
     },
     "execution_count": 17,
     "metadata": {},
     "output_type": "execute_result"
    }
   ],
   "source": [
    "test_len= int(0.9*offense_defense_past.shape[0])\n",
    "test_len"
   ]
  },
  {
   "cell_type": "code",
   "execution_count": 18,
   "id": "9e888596",
   "metadata": {},
   "outputs": [],
   "source": [
    "x_train_val= offense_defense_past[:test_len]\n",
    "x_test= offense_defense_past[test_len:]\n",
    "\n",
    "y_train_val = defence_target[:test_len]\n",
    "y_test= defence_target[test_len:]\n"
   ]
  },
  {
   "cell_type": "code",
   "execution_count": null,
   "id": "75b69854",
   "metadata": {},
   "outputs": [],
   "source": []
  },
  {
   "cell_type": "code",
   "execution_count": 19,
   "id": "d2b20eb8",
   "metadata": {},
   "outputs": [],
   "source": [
    "x_train, x_val, y_train, y_val = train_test_split(x_train_val,y_train_val, random_state=0, train_size = .8)\n"
   ]
  },
  {
   "cell_type": "code",
   "execution_count": 20,
   "id": "4f624a87",
   "metadata": {},
   "outputs": [
    {
     "data": {
      "text/plain": [
       "((28384, 2, 88), (3943, 2, 88), (7096, 2, 88))"
      ]
     },
     "execution_count": 20,
     "metadata": {},
     "output_type": "execute_result"
    }
   ],
   "source": [
    "x_train.shape, x_test.shape,x_val.shape"
   ]
  },
  {
   "cell_type": "code",
   "execution_count": 21,
   "id": "cef2b136",
   "metadata": {},
   "outputs": [
    {
     "data": {
      "text/plain": [
       "((28384, 30, 22), (3943, 30, 22), (7096, 30, 22))"
      ]
     },
     "execution_count": 21,
     "metadata": {},
     "output_type": "execute_result"
    }
   ],
   "source": [
    "y_train.shape, y_test.shape,y_val.shape"
   ]
  },
  {
   "cell_type": "code",
   "execution_count": 22,
   "id": "38e0216d",
   "metadata": {},
   "outputs": [],
   "source": [
    "### Step3: Model definition and training"
   ]
  },
  {
   "cell_type": "code",
   "execution_count": 23,
   "id": "4705e5e7",
   "metadata": {},
   "outputs": [],
   "source": [
    "from tensorflow.keras import Sequential\n",
    "from tensorflow.keras.layers import LSTM, Dense, Dropout, TimeDistributed, Conv1D, MaxPooling1D, Flatten, Bidirectional, Input, Flatten, Activation, Reshape, RepeatVector, Concatenate\n",
    "from tensorflow.keras.models import Model\n",
    "from tensorflow.keras.optimizers import Adam\n",
    "from tensorflow.keras.utils import plot_model\n",
    "from tensorflow.keras.callbacks import EarlyStopping, ReduceLROnPlateau, ModelCheckpoint"
   ]
  },
  {
   "cell_type": "code",
   "execution_count": null,
   "id": "f7415737",
   "metadata": {},
   "outputs": [],
   "source": []
  },
  {
   "cell_type": "code",
   "execution_count": 24,
   "id": "f68acd07",
   "metadata": {},
   "outputs": [],
   "source": [
    "epochs = 50\n",
    "batch_size = 32\n",
    "validation = 0.1\n",
    "callback = EarlyStopping(monitor='loss', patience=3)"
   ]
  },
  {
   "cell_type": "code",
   "execution_count": 25,
   "id": "a9869f30",
   "metadata": {},
   "outputs": [
    {
     "name": "stdout",
     "output_type": "stream",
     "text": [
      "Model: \"sequential\"\n",
      "_________________________________________________________________\n",
      " Layer (type)                Output Shape              Param #   \n",
      "=================================================================\n",
      " lstm (LSTM)                 (None, 200)               231200    \n",
      "                                                                 \n",
      " repeat_vector (RepeatVector  (None, 30, 200)          0         \n",
      " )                                                               \n",
      "                                                                 \n",
      " lstm_1 (LSTM)               (None, 30, 200)           320800    \n",
      "                                                                 \n",
      " time_distributed (TimeDistr  (None, 30, 100)          20100     \n",
      " ibuted)                                                         \n",
      "                                                                 \n",
      " time_distributed_1 (TimeDis  (None, 30, 22)           2222      \n",
      " tributed)                                                       \n",
      "                                                                 \n",
      "=================================================================\n",
      "Total params: 574,322\n",
      "Trainable params: 574,322\n",
      "Non-trainable params: 0\n",
      "_________________________________________________________________\n"
     ]
    }
   ],
   "source": [
    "LSTM_model = Sequential()\n",
    "LSTM_model.add(LSTM(200, activation='relu', \n",
    "                    input_shape=(x_train.shape[1],x_train.shape[2])))\n",
    "LSTM_model.add(RepeatVector(y_train.shape[1]))\n",
    "LSTM_model.add(LSTM(200, activation='relu', return_sequences=True))\n",
    "LSTM_model.add(TimeDistributed(Dense(100, activation='relu')))\n",
    "LSTM_model.add(TimeDistributed(Dense(y_train.shape[2])))\n",
    "LSTM_model.compile(loss='mse', optimizer=Adam(learning_rate=1e-4))\n",
    "LSTM_model.summary()"
   ]
  },
  {
   "cell_type": "code",
   "execution_count": 50,
   "id": "2fc80b89",
   "metadata": {},
   "outputs": [],
   "source": [
    "# from keras.utils import plot_model\n",
    "# plot_model(LSTM_model, to_file='LSTM_model.png', show_shapes=True, show_layer_names=True)\n",
    "# from IPython.display import Image\n",
    "# Image(filename='LSTM_model.png')\n"
   ]
  },
  {
   "cell_type": "code",
   "execution_count": 33,
   "id": "df47f38a",
   "metadata": {},
   "outputs": [
    {
     "name": "stdout",
     "output_type": "stream",
     "text": [
      "Epoch 1/100\n",
      "2839/2839 [==============================] - 92s 32ms/step - loss: 0.0013 - val_loss: 0.0013\n",
      "Epoch 2/100\n",
      "2839/2839 [==============================] - 93s 33ms/step - loss: 0.0013 - val_loss: 0.0013\n",
      "Epoch 3/100\n",
      "2839/2839 [==============================] - 108s 38ms/step - loss: 0.0013 - val_loss: 0.0013\n",
      "Epoch 4/100\n",
      "2839/2839 [==============================] - 101s 36ms/step - loss: 0.0012 - val_loss: 0.0012\n",
      "Epoch 5/100\n",
      "2839/2839 [==============================] - 107s 38ms/step - loss: 0.0012 - val_loss: 0.0012\n",
      "Epoch 6/100\n",
      "2839/2839 [==============================] - 108s 38ms/step - loss: 0.0012 - val_loss: 0.0012\n",
      "Epoch 7/100\n",
      "2839/2839 [==============================] - 104s 37ms/step - loss: 0.0011 - val_loss: 0.0012\n",
      "Epoch 8/100\n",
      "2839/2839 [==============================] - 105s 37ms/step - loss: 0.0011 - val_loss: 0.0011\n",
      "Epoch 9/100\n",
      "2839/2839 [==============================] - 104s 37ms/step - loss: 0.0011 - val_loss: 0.0011\n",
      "Epoch 10/100\n",
      "2839/2839 [==============================] - 104s 37ms/step - loss: 0.0011 - val_loss: 0.0011\n",
      "Epoch 11/100\n",
      "2839/2839 [==============================] - 109s 38ms/step - loss: 0.0011 - val_loss: 0.0010\n",
      "Epoch 12/100\n",
      "2839/2839 [==============================] - 111s 39ms/step - loss: 0.0010 - val_loss: 0.0010\n",
      "Epoch 13/100\n",
      "2839/2839 [==============================] - 109s 39ms/step - loss: 0.0010 - val_loss: 9.9765e-04\n",
      "Epoch 14/100\n",
      "2839/2839 [==============================] - 107s 38ms/step - loss: 9.8932e-04 - val_loss: 9.7891e-04\n",
      "Epoch 15/100\n",
      "2839/2839 [==============================] - 107s 38ms/step - loss: 9.7119e-04 - val_loss: 9.5875e-04\n",
      "Epoch 16/100\n",
      "2839/2839 [==============================] - 112s 39ms/step - loss: 9.5164e-04 - val_loss: 9.4802e-04\n",
      "Epoch 17/100\n",
      "2839/2839 [==============================] - 109s 38ms/step - loss: 9.3378e-04 - val_loss: 9.1061e-04\n",
      "Epoch 18/100\n",
      "2839/2839 [==============================] - 112s 39ms/step - loss: 9.1391e-04 - val_loss: 8.9890e-04\n",
      "Epoch 19/100\n",
      "2839/2839 [==============================] - 114s 40ms/step - loss: 8.9770e-04 - val_loss: 8.9009e-04\n",
      "Epoch 20/100\n",
      "2839/2839 [==============================] - 112s 39ms/step - loss: 8.8185e-04 - val_loss: 8.7806e-04\n",
      "Epoch 21/100\n",
      "2839/2839 [==============================] - 111s 39ms/step - loss: 8.6671e-04 - val_loss: 9.0547e-04\n",
      "Epoch 22/100\n",
      "2839/2839 [==============================] - 112s 39ms/step - loss: 8.5135e-04 - val_loss: 8.3314e-04\n",
      "Epoch 23/100\n",
      "2839/2839 [==============================] - 109s 38ms/step - loss: 8.3580e-04 - val_loss: 8.4174e-04\n",
      "Epoch 24/100\n",
      "2839/2839 [==============================] - 109s 38ms/step - loss: 8.2127e-04 - val_loss: 8.0421e-04\n",
      "Epoch 25/100\n",
      "2839/2839 [==============================] - 111s 39ms/step - loss: 8.0617e-04 - val_loss: 8.4199e-04\n",
      "Epoch 26/100\n",
      "2839/2839 [==============================] - 114s 40ms/step - loss: 7.9296e-04 - val_loss: 8.1790e-04\n",
      "Epoch 27/100\n",
      "2839/2839 [==============================] - 114s 40ms/step - loss: 7.8315e-04 - val_loss: 7.9968e-04\n",
      "Epoch 28/100\n",
      "2839/2839 [==============================] - 113s 40ms/step - loss: 7.6660e-04 - val_loss: 8.4297e-04\n",
      "Epoch 29/100\n",
      "2839/2839 [==============================] - 116s 41ms/step - loss: 7.5886e-04 - val_loss: 7.8068e-04\n",
      "Epoch 30/100\n",
      "2839/2839 [==============================] - 115s 40ms/step - loss: 7.4532e-04 - val_loss: 7.7514e-04\n",
      "Epoch 31/100\n",
      "2839/2839 [==============================] - 116s 41ms/step - loss: 7.3564e-04 - val_loss: 7.8867e-04\n",
      "Epoch 32/100\n",
      "2839/2839 [==============================] - 117s 41ms/step - loss: 7.2623e-04 - val_loss: 7.4559e-04\n",
      "Epoch 33/100\n",
      "2839/2839 [==============================] - 110s 39ms/step - loss: 7.1688e-04 - val_loss: 7.6268e-04\n",
      "Epoch 34/100\n",
      "2839/2839 [==============================] - 112s 40ms/step - loss: 7.0688e-04 - val_loss: 7.4777e-04\n",
      "Epoch 35/100\n",
      "2839/2839 [==============================] - 110s 39ms/step - loss: 6.9602e-04 - val_loss: 7.3380e-04\n",
      "Epoch 36/100\n",
      "2839/2839 [==============================] - 109s 38ms/step - loss: 6.8567e-04 - val_loss: 7.0511e-04\n",
      "Epoch 37/100\n",
      "2839/2839 [==============================] - 111s 39ms/step - loss: 6.7627e-04 - val_loss: 7.0050e-04\n",
      "Epoch 38/100\n",
      "2839/2839 [==============================] - 108s 38ms/step - loss: 6.6741e-04 - val_loss: 6.9778e-04\n",
      "Epoch 39/100\n",
      "2839/2839 [==============================] - 107s 38ms/step - loss: 6.5891e-04 - val_loss: 7.4910e-04\n",
      "Epoch 40/100\n",
      "2839/2839 [==============================] - 101s 36ms/step - loss: 6.5050e-04 - val_loss: 6.8012e-04\n",
      "Epoch 41/100\n",
      "2839/2839 [==============================] - 105s 37ms/step - loss: 6.4157e-04 - val_loss: 6.6505e-04\n",
      "Epoch 42/100\n",
      "2839/2839 [==============================] - 106s 37ms/step - loss: 6.3292e-04 - val_loss: 6.4018e-04\n",
      "Epoch 43/100\n",
      "2839/2839 [==============================] - 107s 38ms/step - loss: 6.2587e-04 - val_loss: 6.3146e-04\n",
      "Epoch 44/100\n",
      "2839/2839 [==============================] - 106s 37ms/step - loss: 6.1631e-04 - val_loss: 6.4397e-04\n",
      "Epoch 45/100\n",
      "2839/2839 [==============================] - 106s 37ms/step - loss: 6.0919e-04 - val_loss: 6.3082e-04\n",
      "Epoch 46/100\n",
      "2839/2839 [==============================] - 105s 37ms/step - loss: 6.0344e-04 - val_loss: 6.4396e-04\n",
      "Epoch 47/100\n",
      "2839/2839 [==============================] - 105s 37ms/step - loss: 5.9507e-04 - val_loss: 6.1519e-04\n",
      "Epoch 48/100\n",
      "2839/2839 [==============================] - 104s 37ms/step - loss: 5.8905e-04 - val_loss: 6.0630e-04\n",
      "Epoch 49/100\n",
      "2839/2839 [==============================] - 105s 37ms/step - loss: 5.8202e-04 - val_loss: 6.1190e-04\n",
      "Epoch 50/100\n",
      "2839/2839 [==============================] - 103s 36ms/step - loss: 5.7357e-04 - val_loss: 5.9401e-04\n",
      "Epoch 51/100\n",
      "2839/2839 [==============================] - 106s 37ms/step - loss: 5.6746e-04 - val_loss: 5.9131e-04\n",
      "Epoch 52/100\n",
      "2839/2839 [==============================] - 107s 38ms/step - loss: 5.6122e-04 - val_loss: 5.9113e-04\n",
      "Epoch 53/100\n",
      "2839/2839 [==============================] - 114s 40ms/step - loss: 5.5501e-04 - val_loss: 5.8603e-04\n",
      "Epoch 54/100\n",
      "2839/2839 [==============================] - 115s 40ms/step - loss: 5.5003e-04 - val_loss: 6.2780e-04\n",
      "Epoch 55/100\n",
      "2839/2839 [==============================] - 113s 40ms/step - loss: 5.4344e-04 - val_loss: 5.8525e-04\n",
      "Epoch 56/100\n",
      "2839/2839 [==============================] - 114s 40ms/step - loss: 5.3674e-04 - val_loss: 5.5886e-04\n",
      "Epoch 57/100\n",
      "2839/2839 [==============================] - 109s 38ms/step - loss: 5.3091e-04 - val_loss: 5.6378e-04\n",
      "Epoch 58/100\n",
      "2839/2839 [==============================] - 114s 40ms/step - loss: 5.2608e-04 - val_loss: 6.0784e-04\n",
      "Epoch 59/100\n",
      "2839/2839 [==============================] - 115s 41ms/step - loss: 5.2213e-04 - val_loss: 5.9228e-04\n",
      "Epoch 60/100\n",
      "2839/2839 [==============================] - 102s 36ms/step - loss: 5.1509e-04 - val_loss: 5.8626e-04\n",
      "Epoch 61/100\n",
      "2839/2839 [==============================] - 109s 38ms/step - loss: 5.0899e-04 - val_loss: 5.7301e-04\n",
      "Epoch 62/100\n",
      "2839/2839 [==============================] - 111s 39ms/step - loss: 5.0600e-04 - val_loss: 5.5181e-04\n",
      "Epoch 63/100\n",
      "2839/2839 [==============================] - 109s 38ms/step - loss: 4.9982e-04 - val_loss: 5.4298e-04\n",
      "Epoch 64/100\n",
      "2839/2839 [==============================] - 99s 35ms/step - loss: 4.9626e-04 - val_loss: 5.2451e-04\n",
      "Epoch 65/100\n",
      "2839/2839 [==============================] - 102s 36ms/step - loss: 4.8981e-04 - val_loss: 5.6487e-04\n",
      "Epoch 66/100\n",
      "2839/2839 [==============================] - 104s 37ms/step - loss: 4.8599e-04 - val_loss: 5.1663e-04\n",
      "Epoch 67/100\n",
      "2839/2839 [==============================] - 113s 40ms/step - loss: 4.8182e-04 - val_loss: 5.3305e-04\n",
      "Epoch 68/100\n",
      "2839/2839 [==============================] - 108s 38ms/step - loss: 4.7801e-04 - val_loss: 5.0782e-04\n",
      "Epoch 69/100\n",
      "2839/2839 [==============================] - 111s 39ms/step - loss: 4.7306e-04 - val_loss: 5.2050e-04\n",
      "Epoch 70/100\n",
      "2839/2839 [==============================] - 93s 33ms/step - loss: 4.6945e-04 - val_loss: 5.1421e-04\n",
      "Epoch 71/100\n",
      "2839/2839 [==============================] - 106s 37ms/step - loss: 4.6419e-04 - val_loss: 4.9613e-04\n",
      "Epoch 72/100\n",
      "2839/2839 [==============================] - 110s 39ms/step - loss: 4.6088e-04 - val_loss: 4.8978e-04\n",
      "Epoch 73/100\n"
     ]
    },
    {
     "name": "stdout",
     "output_type": "stream",
     "text": [
      "2839/2839 [==============================] - 110s 39ms/step - loss: 4.5785e-04 - val_loss: 4.9903e-04\n",
      "Epoch 74/100\n",
      "2839/2839 [==============================] - 109s 38ms/step - loss: 4.5235e-04 - val_loss: 5.0536e-04\n",
      "Epoch 75/100\n",
      "2839/2839 [==============================] - 113s 40ms/step - loss: 4.4920e-04 - val_loss: 4.7686e-04\n",
      "Epoch 76/100\n",
      "2839/2839 [==============================] - 112s 39ms/step - loss: 4.4571e-04 - val_loss: 4.7904e-04\n",
      "Epoch 77/100\n",
      "2839/2839 [==============================] - 110s 39ms/step - loss: 4.4007e-04 - val_loss: 4.7270e-04\n",
      "Epoch 78/100\n",
      "2839/2839 [==============================] - 114s 40ms/step - loss: 4.3762e-04 - val_loss: 4.6971e-04\n",
      "Epoch 79/100\n",
      "2839/2839 [==============================] - 113s 40ms/step - loss: 4.3403e-04 - val_loss: 4.9606e-04\n",
      "Epoch 80/100\n",
      "2839/2839 [==============================] - 114s 40ms/step - loss: 4.2854e-04 - val_loss: 4.6046e-04\n",
      "Epoch 81/100\n",
      "2839/2839 [==============================] - 116s 41ms/step - loss: 4.2740e-04 - val_loss: 5.1576e-04\n",
      "Epoch 82/100\n",
      "2839/2839 [==============================] - 116s 41ms/step - loss: 4.2288e-04 - val_loss: 4.8338e-04\n",
      "Epoch 83/100\n",
      "2839/2839 [==============================] - 115s 40ms/step - loss: 4.2104e-04 - val_loss: 4.5379e-04\n",
      "Epoch 84/100\n",
      "2839/2839 [==============================] - 116s 41ms/step - loss: 4.1718e-04 - val_loss: 4.5516e-04\n",
      "Epoch 85/100\n",
      "2839/2839 [==============================] - 114s 40ms/step - loss: 4.1471e-04 - val_loss: 4.6698e-04\n",
      "Epoch 86/100\n",
      "2839/2839 [==============================] - 117s 41ms/step - loss: 4.0888e-04 - val_loss: 4.7151e-04\n",
      "Epoch 87/100\n",
      "2839/2839 [==============================] - 114s 40ms/step - loss: 4.0828e-04 - val_loss: 4.5600e-04\n",
      "Epoch 88/100\n",
      "2839/2839 [==============================] - 114s 40ms/step - loss: 4.0387e-04 - val_loss: 4.2965e-04\n",
      "Epoch 89/100\n",
      "2839/2839 [==============================] - 114s 40ms/step - loss: 4.0274e-04 - val_loss: 4.5332e-04\n",
      "Epoch 90/100\n",
      "2839/2839 [==============================] - 113s 40ms/step - loss: 3.9701e-04 - val_loss: 4.5079e-04\n",
      "Epoch 91/100\n",
      "2839/2839 [==============================] - 116s 41ms/step - loss: 3.9569e-04 - val_loss: 4.4986e-04\n",
      "Epoch 92/100\n",
      "2839/2839 [==============================] - 112s 40ms/step - loss: 3.9251e-04 - val_loss: 4.1277e-04\n",
      "Epoch 93/100\n",
      "2839/2839 [==============================] - 114s 40ms/step - loss: 3.8973e-04 - val_loss: 4.7999e-04\n",
      "Epoch 94/100\n",
      "2839/2839 [==============================] - 114s 40ms/step - loss: 3.8541e-04 - val_loss: 4.2388e-04\n",
      "Epoch 95/100\n",
      "2839/2839 [==============================] - 114s 40ms/step - loss: 3.8382e-04 - val_loss: 4.2133e-04\n",
      "Epoch 96/100\n",
      "2839/2839 [==============================] - 115s 40ms/step - loss: 3.8207e-04 - val_loss: 4.3438e-04\n",
      "Epoch 97/100\n",
      "2839/2839 [==============================] - 113s 40ms/step - loss: 3.7809e-04 - val_loss: 4.1881e-04\n",
      "Epoch 98/100\n",
      "2839/2839 [==============================] - 111s 39ms/step - loss: 3.7624e-04 - val_loss: 4.0067e-04\n",
      "Epoch 99/100\n",
      "2839/2839 [==============================] - 113s 40ms/step - loss: 3.7384e-04 - val_loss: 4.2339e-04\n",
      "Epoch 100/100\n",
      "2839/2839 [==============================] - 115s 40ms/step - loss: 3.7058e-04 - val_loss: 3.9562e-04\n"
     ]
    }
   ],
   "source": [
    "LSTM_history=LSTM_model.fit(x_train,y_train,batch_size=10,epochs=100,validation_data=(x_val,y_val),callbacks=[callback])\n"
   ]
  },
  {
   "cell_type": "code",
   "execution_count": 34,
   "id": "59cd00f6",
   "metadata": {},
   "outputs": [
    {
     "data": {
      "image/png": "[encoded data removed]",
      "text/plain": [
       "<Figure size 640x480 with 1 Axes>"
      ]
     },
     "metadata": {},
     "output_type": "display_data"
    }
   ],
   "source": [
    "# summarize history for loss\n",
    "plt.plot(LSTM_history.history['loss'])\n",
    "plt.plot(LSTM_history.history['val_loss'])\n",
    "plt.title('model loss\\n'+str(in_len)+'_'+str(out_len))\n",
    "plt.ylabel('loss')\n",
    "plt.xlabel('epoch')\n",
    "plt.legend(['train', 'Validation'], loc='upper left')\n",
    "plt.show()"
   ]
  },
  {
   "cell_type": "code",
   "execution_count": 35,
   "id": "7290ada1",
   "metadata": {},
   "outputs": [
    {
     "name": "stdout",
     "output_type": "stream",
     "text": [
      "124/124 [==============================] - 4s 28ms/step\n"
     ]
    }
   ],
   "source": [
    "predictions=LSTM_model.predict(x_test)"
   ]
  },
  {
   "cell_type": "code",
   "execution_count": 36,
   "id": "b67848d4",
   "metadata": {},
   "outputs": [
    {
     "data": {
      "text/plain": [
       "(3943, 30, 22)"
      ]
     },
     "execution_count": 36,
     "metadata": {},
     "output_type": "execute_result"
    }
   ],
   "source": [
    "predictions.shape"
   ]
  },
  {
   "cell_type": "code",
   "execution_count": 37,
   "id": "cad92c0a",
   "metadata": {
    "scrolled": true
   },
   "outputs": [
    {
     "name": "stdout",
     "output_type": "stream",
     "text": [
      "887/887 [==============================] - 26s 29ms/step\n"
     ]
    },
    {
     "data": {
      "text/plain": [
       "0.9787392995435336"
      ]
     },
     "execution_count": 37,
     "metadata": {},
     "output_type": "execute_result"
    }
   ],
   "source": [
    "np.corrcoef((flatten(flatten(y_train))),flatten(flatten(LSTM_model.predict(x_train))))[0,1]**2"
   ]
  },
  {
   "cell_type": "code",
   "execution_count": 38,
   "id": "6b158d61",
   "metadata": {},
   "outputs": [
    {
     "data": {
      "text/plain": [
       "0.8984545169532436"
      ]
     },
     "execution_count": 38,
     "metadata": {},
     "output_type": "execute_result"
    }
   ],
   "source": [
    "np.corrcoef((flatten(flatten(y_test))),flatten(flatten(predictions)))[0,1]**2"
   ]
  },
  {
   "cell_type": "code",
   "execution_count": 39,
   "id": "2b1cde33",
   "metadata": {},
   "outputs": [
    {
     "name": "stdout",
     "output_type": "stream",
     "text": [
      "887/887 [==============================] - 27s 31ms/step\n",
      "R-Square value from train:  0.9787108794362284\n",
      "887/887 [==============================] - 30s 34ms/step\n",
      "max deviation train:  0.28365386400060566\n",
      "222/222 [==============================] - 7s 32ms/step\n",
      "R-Square value from val:  0.9759692939874038\n",
      "222/222 [==============================] - 7s 31ms/step\n",
      "max deviation val:  0.30700490236461253\n",
      "124/124 [==============================] - 4s 34ms/step\n",
      "R-Square value from test:  0.8980230861010932\n",
      "124/124 [==============================] - 5s 37ms/step\n",
      "max deviation test:  0.3476648293952178\n"
     ]
    }
   ],
   "source": [
    "from sklearn.metrics import r2_score \n",
    "print(\"R-Square value from train: \",r2_score((flatten(flatten(y_train))),flatten(flatten(LSTM_model.predict(x_train)))))\n",
    "print(\"max deviation train: \",max(np.subtract((flatten(flatten(y_train))),flatten(flatten(LSTM_model.predict(x_train))))))\n",
    "\n",
    "print(\"R-Square value from val: \",r2_score((flatten(flatten(y_val))),flatten(flatten(LSTM_model.predict(x_val)))))\n",
    "print(\"max deviation val: \",max(np.subtract((flatten(flatten(y_val))),flatten(flatten(LSTM_model.predict(x_val))))))\n",
    "\n",
    "print(\"R-Square value from test: \",r2_score((flatten(flatten(y_test))),flatten(flatten(LSTM_model.predict(x_test)))))\n",
    "print(\"max deviation test: \",max(np.subtract((flatten(flatten(y_test))),flatten(flatten(LSTM_model.predict(x_test))))))\n"
   ]
  },
  {
   "cell_type": "code",
   "execution_count": 40,
   "id": "9d838cd7",
   "metadata": {},
   "outputs": [
    {
     "name": "stdout",
     "output_type": "stream",
     "text": [
      "INFO:tensorflow:Assets written to: ../Simulation_models/New_model/model_2_30\\assets\n"
     ]
    }
   ],
   "source": [
    "LSTM_model.save('../Simulation_models/New_model/model_'+str(in_len)+'_'+str(out_len))"
   ]
  },
  {
   "cell_type": "code",
   "execution_count": null,
   "id": "a137e416",
   "metadata": {},
   "outputs": [],
   "source": []
  },
  {
   "cell_type": "code",
   "execution_count": 41,
   "id": "e91a030b",
   "metadata": {},
   "outputs": [
    {
     "data": {
      "image/png": "[encoded data removed]",
      "text/plain": [
       "<Figure size 1000x600 with 1 Axes>"
      ]
     },
     "metadata": {},
     "output_type": "display_data"
    }
   ],
   "source": [
    "n=1\n",
    "\n",
    "fig, ax = plt.subplots(figsize=(10, 6))\n",
    "\n",
    "for t in range(30):\n",
    "    for player in range(11):\n",
    "        ax.scatter(predictions[n][t][player],predictions[n][t][player+1],c='y',s=100)\n",
    "        ax.scatter(y_test[n][t][player],y_test[n][t][player+1],c='b',s=100)\n",
    "        \n",
    "  "
   ]
  },
  {
   "cell_type": "code",
   "execution_count": 43,
   "id": "ed32d939",
   "metadata": {},
   "outputs": [
    {
     "data": {
      "text/plain": [
       "<matplotlib.collections.PathCollection at 0x22556c95588>"
      ]
     },
     "execution_count": 43,
     "metadata": {},
     "output_type": "execute_result"
    },
    {
     "data": {
      "image/png": "[encoded data removed]",
      "text/plain": [
       "<Figure size 640x480 with 1 Axes>"
      ]
     },
     "metadata": {},
     "output_type": "display_data"
    }
   ],
   "source": [
    "plt.scatter(flatten(y_test[:,4,:]),flatten(predictions[:,4,:]))"
   ]
  },
  {
   "cell_type": "code",
   "execution_count": 44,
   "id": "3f901ce5",
   "metadata": {},
   "outputs": [],
   "source": [
    "import seaborn as sns\n"
   ]
  },
  {
   "cell_type": "code",
   "execution_count": 49,
   "id": "298ae633",
   "metadata": {},
   "outputs": [],
   "source": [
    "error= np.subtract(flatten(y_test[:,0,:]),flatten(predictions[:,0,:]))\n",
    "#sns.histplot(error,color='red')\n",
    "#sns.histplot(np.subtract(flatten(y_test[:,4,:]),flatten(predictions[:,4,:])),color='blue')"
   ]
  },
  {
   "cell_type": "code",
   "execution_count": 47,
   "id": "8a0d176e",
   "metadata": {},
   "outputs": [],
   "source": [
    "error_step1= np.subtract(flatten(y_test[:,0,:]),flatten(predictions[:,0,:]))\n",
    "error_step2= np.subtract(flatten(y_test[:,2,:]),flatten(predictions[:,2,:]))\n",
    "error_step3= np.subtract(flatten(y_test[:,4,:]),flatten(predictions[:,4,:]))\n",
    "error_step4= np.subtract(flatten(y_test[:,6,:]),flatten(predictions[:,6,:]))\n",
    "error_step5= np.subtract(flatten(y_test[:,8,:]),flatten(predictions[:,8,:]))\n"
   ]
  },
  {
   "cell_type": "code",
   "execution_count": 48,
   "id": "c572e887",
   "metadata": {
    "scrolled": false
   },
   "outputs": [
    {
     "name": "stderr",
     "output_type": "stream",
     "text": [
      "C:\\study_tools\\envs\\DL\\lib\\site-packages\\ipykernel_launcher.py:1: UserWarning: \n",
      "\n",
      "`distplot` is a deprecated function and will be removed in seaborn v0.14.0.\n",
      "\n",
      "Please adapt your code to use either `displot` (a figure-level function with\n",
      "similar flexibility) or `kdeplot` (an axes-level function for kernel density plots).\n",
      "\n",
      "For a guide to updating your code to use the new functions, please see\n",
      "https://gist.github.com/mwaskom/de44147ed2974457ad6372750bbe5751\n",
      "\n",
      "  \"\"\"Entry point for launching an IPython kernel.\n",
      "C:\\study_tools\\envs\\DL\\lib\\site-packages\\ipykernel_launcher.py:2: UserWarning: \n",
      "\n",
      "`distplot` is a deprecated function and will be removed in seaborn v0.14.0.\n",
      "\n",
      "Please adapt your code to use either `displot` (a figure-level function with\n",
      "similar flexibility) or `kdeplot` (an axes-level function for kernel density plots).\n",
      "\n",
      "For a guide to updating your code to use the new functions, please see\n",
      "https://gist.github.com/mwaskom/de44147ed2974457ad6372750bbe5751\n",
      "\n",
      "  \n",
      "C:\\study_tools\\envs\\DL\\lib\\site-packages\\ipykernel_launcher.py:3: UserWarning: \n",
      "\n",
      "`distplot` is a deprecated function and will be removed in seaborn v0.14.0.\n",
      "\n",
      "Please adapt your code to use either `displot` (a figure-level function with\n",
      "similar flexibility) or `kdeplot` (an axes-level function for kernel density plots).\n",
      "\n",
      "For a guide to updating your code to use the new functions, please see\n",
      "https://gist.github.com/mwaskom/de44147ed2974457ad6372750bbe5751\n",
      "\n",
      "  This is separate from the ipykernel package so we can avoid doing imports until\n",
      "C:\\study_tools\\envs\\DL\\lib\\site-packages\\ipykernel_launcher.py:4: UserWarning: \n",
      "\n",
      "`distplot` is a deprecated function and will be removed in seaborn v0.14.0.\n",
      "\n",
      "Please adapt your code to use either `displot` (a figure-level function with\n",
      "similar flexibility) or `kdeplot` (an axes-level function for kernel density plots).\n",
      "\n",
      "For a guide to updating your code to use the new functions, please see\n",
      "https://gist.github.com/mwaskom/de44147ed2974457ad6372750bbe5751\n",
      "\n",
      "  after removing the cwd from sys.path.\n",
      "C:\\study_tools\\envs\\DL\\lib\\site-packages\\ipykernel_launcher.py:5: UserWarning: \n",
      "\n",
      "`distplot` is a deprecated function and will be removed in seaborn v0.14.0.\n",
      "\n",
      "Please adapt your code to use either `displot` (a figure-level function with\n",
      "similar flexibility) or `kdeplot` (an axes-level function for kernel density plots).\n",
      "\n",
      "For a guide to updating your code to use the new functions, please see\n",
      "https://gist.github.com/mwaskom/de44147ed2974457ad6372750bbe5751\n",
      "\n",
      "  \"\"\"\n"
     ]
    },
    {
     "data": {
      "image/png": "[encoded data removed]",
      "text/plain": [
       "<Figure size 640x480 with 1 Axes>"
      ]
     },
     "metadata": {},
     "output_type": "display_data"
    }
   ],
   "source": [
    "\n",
    "sns.distplot(error_step1,color='violet',hist=False,label='1')\n",
    "sns.distplot(error_step2,color='red',hist=False,label='3')\n",
    "sns.distplot(error_step3,color='blue',hist=False,label='5')\n",
    "sns.distplot(error_step4,color='green',hist=False,label='7')\n",
    "sns.distplot(error_step5,color='brown',hist=False,label='9')\n",
    "\n",
    "plt.legend(title=\"Step ahead forecast\")\n",
    "plt.show()"
   ]
  },
  {
   "cell_type": "code",
   "execution_count": null,
   "id": "f1aef229",
   "metadata": {},
   "outputs": [],
   "source": []
  },
  {
   "cell_type": "code",
   "execution_count": null,
   "id": "e7f0550a",
   "metadata": {},
   "outputs": [],
   "source": []
  }
 ],
 "metadata": {
  "kernelspec": {
   "display_name": "Python 3 (ipykernel)",
   "language": "python",
   "name": "python3"
  },
  "language_info": {
   "codemirror_mode": {
    "name": "ipython",
    "version": 3
   },
   "file_extension": ".py",
   "mimetype": "text/x-python",
   "name": "python",
   "nbconvert_exporter": "python",
   "pygments_lexer": "ipython3",
   "version": "3.7.13"
  }
 },
 "nbformat": 4,
 "nbformat_minor": 5
}
