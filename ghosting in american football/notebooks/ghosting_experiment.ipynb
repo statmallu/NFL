{
 "cells": [
  {
   "cell_type": "code",
   "execution_count": 2,
   "id": "5c0da567",
   "metadata": {},
   "outputs": [],
   "source": [
    "import sqlite3\n",
    "import pandas as pd\n",
    "import matplotlib.pyplot as plt\n",
    "import matplotlib.patches as mpatches\n",
    "import numpy as np"
   ]
  },
  {
   "cell_type": "code",
   "execution_count": 5,
   "id": "419c8c62",
   "metadata": {},
   "outputs": [],
   "source": [
    "inputdata= pd.read_csv('../data/processed/inputdata.csv')"
   ]
  },
  {
   "cell_type": "code",
   "execution_count": 22,
   "id": "91655105",
   "metadata": {},
   "outputs": [],
   "source": [
    "attack_col=['x_Attack_01','y_Attack_01','s_Attack_01','dbf_Attack_01',\n",
    "            'x_Attack_02','y_Attack_02','s_Attack_02','dbf_Attack_02',\n",
    "            'x_Attack_03','y_Attack_03','s_Attack_03','dbf_Attack_03',\n",
    "            'x_Attack_04','y_Attack_04','s_Attack_04','dbf_Attack_04',\n",
    "            'x_Attack_05','y_Attack_05','s_Attack_05','dbf_Attack_05',\n",
    "            'x_Attack_06','y_Attack_06','s_Attack_06','dbf_Attack_06', \n",
    "            'x_Attack_07','y_Attack_07','s_Attack_07','dbf_Attack_07',\n",
    "            'x_Attack_08','y_Attack_08','s_Attack_08','dbf_Attack_08',\n",
    "            'x_Attack_09','y_Attack_09','s_Attack_09','dbf_Attack_09',\n",
    "            'x_Attack_10','y_Attack_10','s_Attack_10','dbf_Attack_10',\n",
    "            'x_Attack_11','y_Attack_11','s_Attack_11','dbf_Attack_11'        \n",
    "           \n",
    "           ]\n",
    "\n",
    "defense_col=['x_Defense_01','y_Defense_01','s_Defense_01','dbf_Defense_01',\n",
    "             'x_Defense_02','y_Defense_02','s_Defense_02','dbf_Defense_02',\n",
    "             'x_Defense_03','y_Defense_03','s_Defense_03','dbf_Defense_03',\n",
    "             'x_Defense_04','y_Defense_04','s_Defense_04','dbf_Defense_04',\n",
    "             'x_Defense_05','y_Defense_05','s_Defense_05','dbf_Defense_05',\n",
    "             'x_Defense_06','y_Defense_06','s_Defense_06','dbf_Defense_06', \n",
    "             'x_Defense_07','y_Defense_07','s_Defense_07','dbf_Defense_07',\n",
    "             'x_Defense_08','y_Defense_08','s_Defense_08','dbf_Defense_08',\n",
    "             'x_Defense_09','y_Defense_09','s_Defense_09','dbf_Defense_09',\n",
    "             'x_Defense_10','y_Defense_10','s_Defense_10','dbf_Defense_10',\n",
    "             'x_Defense_11','y_Defense_11','s_Defense_11','dbf_Defense_11'\n",
    "            ]"
   ]
  },
  {
   "cell_type": "code",
   "execution_count": 23,
   "id": "a1695d8e",
   "metadata": {},
   "outputs": [
    {
     "data": {
      "text/plain": [
       "(279015, 88)"
      ]
     },
     "execution_count": 23,
     "metadata": {},
     "output_type": "execute_result"
    }
   ],
   "source": [
    "inputdata[attack_col+defense_col].dropna(axis=0).shape"
   ]
  },
  {
   "cell_type": "code",
   "execution_count": 24,
   "id": "a8adcdd3",
   "metadata": {},
   "outputs": [],
   "source": [
    "inputdata= inputdata[['time','gameId','playId']+attack_col+defense_col]\n",
    "inputdata.dropna(axis=0,inplace=True)"
   ]
  },
  {
   "cell_type": "code",
   "execution_count": 25,
   "id": "15b0473c",
   "metadata": {},
   "outputs": [],
   "source": [
    "def data_proc(data,seq_ln,forecast_ln):\n",
    "    X=[]\n",
    "    Y=[]\n",
    "    \n",
    "    start=0\n",
    "    end= seq_ln\n",
    "    forecast_end= seq_ln+forecast_ln    \n",
    "    \n",
    "    for n in range(data.shape[0]- (seq_ln+forecast_ln)):\n",
    "        \n",
    "        values=data.values\n",
    "        X.append(values[start:end].tolist())\n",
    "        Y.append(values[end:forecast_end].tolist())\n",
    "        \n",
    "        start+=1\n",
    "        end+=1\n",
    "        forecast_end+=1\n",
    "        \n",
    "    #X= np.reshape(X,(data.shape[0],seq_ln,1))\n",
    "    #Y= np.reshape(Y,(data.shape[0],forecast_ln,1))  \n",
    "    return X,Y"
   ]
  },
  {
   "cell_type": "code",
   "execution_count": 54,
   "id": "1339477a",
   "metadata": {},
   "outputs": [],
   "source": [
    "in_len=2\n",
    "out_len=30\n",
    "offense_past=[]\n",
    "offense_next =[]\n",
    "\n",
    "for gameid in inputdata.gameId.unique().tolist():\n",
    "    for playid in inputdata.playId.unique().tolist():\n",
    "        \n",
    "        offense_sq=inputdata[(inputdata['gameId']==gameid)&(inputdata['playId']==playid)][attack_col]\n",
    "        x,y= data_proc(offense_sq,in_len,out_len)\n",
    "        \n",
    "        offense_past.append(x)\n",
    "        offense_next.append(y)\n",
    "\n",
    "\n",
    "\n",
    "#defense_sq= inputdata[defense_col]\n",
    "#defense_past30, defense_next10= data_proc(defense_sq,30,10)"
   ]
  },
  {
   "cell_type": "code",
   "execution_count": 55,
   "id": "ca72f730",
   "metadata": {},
   "outputs": [
    {
     "data": {
      "text/plain": [
       "3"
      ]
     },
     "execution_count": 55,
     "metadata": {},
     "output_type": "execute_result"
    }
   ],
   "source": [
    "len(offense_past[0])"
   ]
  },
  {
   "cell_type": "code",
   "execution_count": 56,
   "id": "670b50ce",
   "metadata": {},
   "outputs": [],
   "source": [
    "\n",
    "defense_past=[]\n",
    "defense_next =[]\n",
    "\n",
    "for gameid in inputdata.gameId.unique().tolist():\n",
    "    for playid in inputdata.playId.unique().tolist():\n",
    "        \n",
    "        defense_sq=inputdata[(inputdata['gameId']==gameid)&(inputdata['playId']==playid)][defense_col]\n",
    "        x,y= data_proc(defense_sq,in_len,out_len)\n",
    "        defense_past.append(x)\n",
    "        defense_next.append(y)\n",
    "\n",
    "\n",
    "\n",
    "#defense_sq= inputdata[defense_col]\n",
    "#defense_past30, defense_next10= data_proc(defense_sq,30,10)"
   ]
  },
  {
   "cell_type": "code",
   "execution_count": 57,
   "id": "b1724799",
   "metadata": {},
   "outputs": [],
   "source": [
    "def flatten(l):\n",
    "    return [item for sublist in l for item in sublist]"
   ]
  },
  {
   "cell_type": "code",
   "execution_count": 58,
   "id": "fc3434b8",
   "metadata": {},
   "outputs": [],
   "source": [
    "offense_past= flatten(offense_past)\n",
    "offense_next =flatten(offense_next)\n",
    "\n",
    "defense_past= flatten(defense_past)\n",
    "defense_next =flatten(defense_next)\n"
   ]
  },
  {
   "cell_type": "code",
   "execution_count": 59,
   "id": "73e383b9",
   "metadata": {},
   "outputs": [],
   "source": [
    "offense_past= np.array(offense_past)\n",
    "offense_next =np.array(offense_next)\n",
    "\n",
    "defense_past= np.array(defense_past)\n",
    "defense_next =np.array(defense_next)"
   ]
  },
  {
   "cell_type": "code",
   "execution_count": 60,
   "id": "57e9b4b7",
   "metadata": {},
   "outputs": [
    {
     "data": {
      "text/plain": [
       "((39423, 2, 44), (39423, 2, 44))"
      ]
     },
     "execution_count": 60,
     "metadata": {},
     "output_type": "execute_result"
    }
   ],
   "source": [
    "offense_past.shape,defense_past.shape"
   ]
  },
  {
   "cell_type": "code",
   "execution_count": 61,
   "id": "9424d2e9",
   "metadata": {},
   "outputs": [
    {
     "data": {
      "text/plain": [
       "(39423, 2, 88)"
      ]
     },
     "execution_count": 61,
     "metadata": {},
     "output_type": "execute_result"
    }
   ],
   "source": [
    "offense_defense_past =np.ones((offense_past.shape[0],offense_past.shape[1],offense_past.shape[2]+defense_past.shape[2]))\n",
    "for c in range(offense_past.shape[0]):\n",
    "    for t in range(offense_past.shape[1]):\n",
    "        offense_defense_past[c][t]= np.append(offense_past[c][t],defense_past[c][t])\n",
    "        \n",
    "offense_defense_past.shape\n",
    "\n"
   ]
  },
  {
   "cell_type": "code",
   "execution_count": 62,
   "id": "436c548e",
   "metadata": {},
   "outputs": [
    {
     "data": {
      "text/plain": [
       "(39423, 30, 22)"
      ]
     },
     "execution_count": 62,
     "metadata": {},
     "output_type": "execute_result"
    }
   ],
   "source": [
    "defence_target= np.ones((defense_next.shape[0],defense_next.shape[1],22)) #removing the speed and distance to ball value from the target data\n",
    "a= pd.Series(np.arange(0,44,4)).append(pd.Series(np.arange(1,44,4))).tolist()\n",
    "a.sort()\n",
    "\n",
    "for c in range(defense_next.shape[0]):\n",
    "    for t in range(defense_next.shape[1]):\n",
    "        defence_target[c][t]= defense_next[c][t][a]\n",
    "defence_target.shape"
   ]
  },
  {
   "cell_type": "code",
   "execution_count": 63,
   "id": "eaaa3069",
   "metadata": {},
   "outputs": [],
   "source": [
    "from sklearn.model_selection import train_test_split\n"
   ]
  },
  {
   "cell_type": "code",
   "execution_count": 64,
   "id": "f566ae61",
   "metadata": {},
   "outputs": [
    {
     "data": {
      "text/plain": [
       "35480"
      ]
     },
     "execution_count": 64,
     "metadata": {},
     "output_type": "execute_result"
    }
   ],
   "source": [
    "test_len= int(0.9*offense_defense_past.shape[0])\n",
    "test_len"
   ]
  },
  {
   "cell_type": "code",
   "execution_count": 65,
   "id": "9e888596",
   "metadata": {},
   "outputs": [],
   "source": [
    "x_train_val= offense_defense_past[:test_len]\n",
    "x_test= offense_defense_past[test_len:]\n",
    "\n",
    "y_train_val = defence_target[:test_len]\n",
    "y_test= defence_target[test_len:]\n"
   ]
  },
  {
   "cell_type": "code",
   "execution_count": null,
   "id": "75b69854",
   "metadata": {},
   "outputs": [],
   "source": []
  },
  {
   "cell_type": "code",
   "execution_count": 66,
   "id": "d2b20eb8",
   "metadata": {},
   "outputs": [],
   "source": [
    "x_train, x_val, y_train, y_val = train_test_split(x_train_val,y_train_val, random_state=0, train_size = .8)\n"
   ]
  },
  {
   "cell_type": "code",
   "execution_count": 67,
   "id": "4f624a87",
   "metadata": {},
   "outputs": [
    {
     "data": {
      "text/plain": [
       "((28384, 2, 88), (3943, 2, 88), (7096, 2, 88))"
      ]
     },
     "execution_count": 67,
     "metadata": {},
     "output_type": "execute_result"
    }
   ],
   "source": [
    "x_train.shape, x_test.shape,x_val.shape"
   ]
  },
  {
   "cell_type": "code",
   "execution_count": 68,
   "id": "cef2b136",
   "metadata": {},
   "outputs": [
    {
     "data": {
      "text/plain": [
       "((28384, 30, 22), (3943, 30, 22), (7096, 30, 22))"
      ]
     },
     "execution_count": 68,
     "metadata": {},
     "output_type": "execute_result"
    }
   ],
   "source": [
    "y_train.shape, y_test.shape,y_val.shape"
   ]
  },
  {
   "cell_type": "code",
   "execution_count": 69,
   "id": "4705e5e7",
   "metadata": {},
   "outputs": [],
   "source": [
    "from tensorflow.keras import Sequential\n",
    "from tensorflow.keras.layers import LSTM, Dense, Dropout, TimeDistributed, Conv1D, MaxPooling1D, Flatten, Bidirectional, Input, Flatten, Activation, Reshape, RepeatVector, Concatenate\n",
    "from tensorflow.keras.models import Model\n",
    "from tensorflow.keras.optimizers import Adam\n",
    "from tensorflow.keras.utils import plot_model\n",
    "from tensorflow.keras.callbacks import EarlyStopping, ReduceLROnPlateau, ModelCheckpoint"
   ]
  },
  {
   "cell_type": "code",
   "execution_count": null,
   "id": "f7415737",
   "metadata": {},
   "outputs": [],
   "source": []
  },
  {
   "cell_type": "code",
   "execution_count": 70,
   "id": "f68acd07",
   "metadata": {},
   "outputs": [],
   "source": [
    "epochs = 50\n",
    "batch_size = 32\n",
    "validation = 0.1\n",
    "callback = EarlyStopping(monitor='loss', patience=3)"
   ]
  },
  {
   "cell_type": "code",
   "execution_count": 71,
   "id": "a9869f30",
   "metadata": {},
   "outputs": [
    {
     "name": "stdout",
     "output_type": "stream",
     "text": [
      "Model: \"sequential_1\"\n",
      "_________________________________________________________________\n",
      " Layer (type)                Output Shape              Param #   \n",
      "=================================================================\n",
      " lstm_2 (LSTM)               (None, 200)               231200    \n",
      "                                                                 \n",
      " repeat_vector_1 (RepeatVect  (None, 30, 200)          0         \n",
      " or)                                                             \n",
      "                                                                 \n",
      " lstm_3 (LSTM)               (None, 30, 200)           320800    \n",
      "                                                                 \n",
      " time_distributed_2 (TimeDis  (None, 30, 100)          20100     \n",
      " tributed)                                                       \n",
      "                                                                 \n",
      " time_distributed_3 (TimeDis  (None, 30, 22)           2222      \n",
      " tributed)                                                       \n",
      "                                                                 \n",
      "=================================================================\n",
      "Total params: 574,322\n",
      "Trainable params: 574,322\n",
      "Non-trainable params: 0\n",
      "_________________________________________________________________\n"
     ]
    }
   ],
   "source": [
    "LSTM_model = Sequential()\n",
    "LSTM_model.add(LSTM(200, activation='relu', \n",
    "                    input_shape=(x_train.shape[1],x_train.shape[2])))\n",
    "LSTM_model.add(RepeatVector(y_train.shape[1]))\n",
    "LSTM_model.add(LSTM(200, activation='relu', return_sequences=True))\n",
    "LSTM_model.add(TimeDistributed(Dense(100, activation='relu')))\n",
    "LSTM_model.add(TimeDistributed(Dense(y_train.shape[2])))\n",
    "LSTM_model.compile(loss='mse', optimizer=Adam(learning_rate=1e-4))\n",
    "LSTM_model.summary()"
   ]
  },
  {
   "cell_type": "code",
   "execution_count": 72,
   "id": "df47f38a",
   "metadata": {},
   "outputs": [
    {
     "name": "stdout",
     "output_type": "stream",
     "text": [
      "Epoch 1/100\n",
      "2839/2839 [==============================] - 73s 25ms/step - loss: 0.0108 - val_loss: 0.0030\n",
      "Epoch 2/100\n",
      "2839/2839 [==============================] - 76s 27ms/step - loss: 0.0024 - val_loss: 0.0021\n",
      "Epoch 3/100\n",
      "2839/2839 [==============================] - 80s 28ms/step - loss: 0.0019 - val_loss: 0.0018\n",
      "Epoch 4/100\n",
      "2839/2839 [==============================] - 83s 29ms/step - loss: 0.0017 - val_loss: 0.0016\n",
      "Epoch 5/100\n",
      "2839/2839 [==============================] - 86s 30ms/step - loss: 0.0015 - val_loss: 0.0015\n",
      "Epoch 6/100\n",
      "2839/2839 [==============================] - 88s 31ms/step - loss: 0.0015 - val_loss: 0.0014\n",
      "Epoch 7/100\n",
      "2839/2839 [==============================] - 87s 31ms/step - loss: 0.0014 - val_loss: 0.0014\n",
      "Epoch 8/100\n",
      "2839/2839 [==============================] - 90s 32ms/step - loss: 0.0014 - val_loss: 0.0013\n",
      "Epoch 9/100\n",
      "2839/2839 [==============================] - 90s 32ms/step - loss: 0.0013 - val_loss: 0.0013\n",
      "Epoch 10/100\n",
      "2839/2839 [==============================] - 89s 31ms/step - loss: 0.0013 - val_loss: 0.0013\n",
      "Epoch 11/100\n",
      "2839/2839 [==============================] - 87s 31ms/step - loss: 0.0012 - val_loss: 0.0012\n",
      "Epoch 12/100\n",
      "2839/2839 [==============================] - 90s 32ms/step - loss: 0.0012 - val_loss: 0.0012\n",
      "Epoch 13/100\n",
      "2839/2839 [==============================] - 88s 31ms/step - loss: 0.0012 - val_loss: 0.0012\n",
      "Epoch 14/100\n",
      "2839/2839 [==============================] - 89s 32ms/step - loss: 0.0011 - val_loss: 0.0012\n",
      "Epoch 15/100\n",
      "2839/2839 [==============================] - 89s 31ms/step - loss: 0.0011 - val_loss: 0.0011\n",
      "Epoch 16/100\n",
      "2839/2839 [==============================] - 88s 31ms/step - loss: 0.0011 - val_loss: 0.0011\n",
      "Epoch 17/100\n",
      "2839/2839 [==============================] - 88s 31ms/step - loss: 0.0011 - val_loss: 0.0011\n",
      "Epoch 18/100\n",
      "2839/2839 [==============================] - 90s 32ms/step - loss: 0.0010 - val_loss: 0.0010\n",
      "Epoch 19/100\n",
      "2839/2839 [==============================] - 90s 32ms/step - loss: 0.0010 - val_loss: 0.0011\n",
      "Epoch 20/100\n",
      "2839/2839 [==============================] - 89s 32ms/step - loss: 0.0010 - val_loss: 9.8737e-04\n",
      "Epoch 21/100\n",
      "2839/2839 [==============================] - 90s 32ms/step - loss: 9.8542e-04 - val_loss: 9.8712e-04\n",
      "Epoch 22/100\n",
      "2839/2839 [==============================] - 92s 32ms/step - loss: 9.6398e-04 - val_loss: 9.3160e-04\n",
      "Epoch 23/100\n",
      "2839/2839 [==============================] - 94s 33ms/step - loss: 9.4932e-04 - val_loss: 9.3211e-04\n",
      "Epoch 24/100\n",
      "2839/2839 [==============================] - 96s 34ms/step - loss: 9.3236e-04 - val_loss: 9.0423e-04\n",
      "Epoch 25/100\n",
      "2839/2839 [==============================] - 94s 33ms/step - loss: 9.1476e-04 - val_loss: 9.2304e-04\n",
      "Epoch 26/100\n",
      "2839/2839 [==============================] - 94s 33ms/step - loss: 9.0121e-04 - val_loss: 8.9251e-04\n",
      "Epoch 27/100\n",
      "2839/2839 [==============================] - 93s 33ms/step - loss: 8.8473e-04 - val_loss: 8.9604e-04\n",
      "Epoch 28/100\n",
      "2839/2839 [==============================] - 93s 33ms/step - loss: 8.6966e-04 - val_loss: 9.0760e-04\n",
      "Epoch 29/100\n",
      "2839/2839 [==============================] - 95s 33ms/step - loss: 8.5711e-04 - val_loss: 8.6044e-04\n",
      "Epoch 30/100\n",
      "2839/2839 [==============================] - 97s 34ms/step - loss: 8.4448e-04 - val_loss: 8.4714e-04\n",
      "Epoch 31/100\n",
      "2839/2839 [==============================] - 98s 35ms/step - loss: 8.3162e-04 - val_loss: 8.8943e-04\n",
      "Epoch 32/100\n",
      "2839/2839 [==============================] - 100s 35ms/step - loss: 8.1940e-04 - val_loss: 8.8275e-04\n",
      "Epoch 33/100\n",
      "2839/2839 [==============================] - 100s 35ms/step - loss: 8.0796e-04 - val_loss: 8.1900e-04\n",
      "Epoch 34/100\n",
      "2839/2839 [==============================] - 101s 36ms/step - loss: 7.9483e-04 - val_loss: 8.5896e-04\n",
      "Epoch 35/100\n",
      "2839/2839 [==============================] - 100s 35ms/step - loss: 7.8318e-04 - val_loss: 8.2520e-04\n",
      "Epoch 36/100\n",
      "2839/2839 [==============================] - 100s 35ms/step - loss: 7.7122e-04 - val_loss: 7.9083e-04\n",
      "Epoch 37/100\n",
      "2839/2839 [==============================] - 99s 35ms/step - loss: 7.6075e-04 - val_loss: 8.3039e-04\n",
      "Epoch 38/100\n",
      "2839/2839 [==============================] - 98s 35ms/step - loss: 7.5148e-04 - val_loss: 7.9853e-04\n",
      "Epoch 39/100\n",
      "2839/2839 [==============================] - 99s 35ms/step - loss: 7.3745e-04 - val_loss: 7.9856e-04\n",
      "Epoch 40/100\n",
      "2839/2839 [==============================] - 99s 35ms/step - loss: 7.2941e-04 - val_loss: 7.4394e-04\n",
      "Epoch 41/100\n",
      "2839/2839 [==============================] - 102s 36ms/step - loss: 7.1788e-04 - val_loss: 7.6755e-04\n",
      "Epoch 42/100\n",
      "2839/2839 [==============================] - 101s 36ms/step - loss: 7.1043e-04 - val_loss: 6.9886e-04\n",
      "Epoch 43/100\n",
      "2839/2839 [==============================] - 100s 35ms/step - loss: 6.9947e-04 - val_loss: 7.3317e-04\n",
      "Epoch 44/100\n",
      "2839/2839 [==============================] - 100s 35ms/step - loss: 6.8858e-04 - val_loss: 7.0319e-04\n",
      "Epoch 45/100\n",
      "2839/2839 [==============================] - 99s 35ms/step - loss: 6.8189e-04 - val_loss: 6.8647e-04\n",
      "Epoch 46/100\n",
      "2839/2839 [==============================] - 100s 35ms/step - loss: 6.7215e-04 - val_loss: 7.1186e-04\n",
      "Epoch 47/100\n",
      "2839/2839 [==============================] - 100s 35ms/step - loss: 6.6040e-04 - val_loss: 6.8355e-04\n",
      "Epoch 48/100\n",
      "2839/2839 [==============================] - 100s 35ms/step - loss: 6.5371e-04 - val_loss: 6.7834e-04\n",
      "Epoch 49/100\n",
      "2839/2839 [==============================] - 100s 35ms/step - loss: 6.4467e-04 - val_loss: 6.8077e-04\n",
      "Epoch 50/100\n",
      "2839/2839 [==============================] - 99s 35ms/step - loss: 6.3660e-04 - val_loss: 6.4854e-04\n",
      "Epoch 51/100\n",
      "2839/2839 [==============================] - 101s 36ms/step - loss: 6.2901e-04 - val_loss: 6.8918e-04\n",
      "Epoch 52/100\n",
      "2839/2839 [==============================] - 101s 36ms/step - loss: 6.2087e-04 - val_loss: 6.5833e-04\n",
      "Epoch 53/100\n",
      "2839/2839 [==============================] - 102s 36ms/step - loss: 6.1525e-04 - val_loss: 6.2276e-04\n",
      "Epoch 54/100\n",
      "2839/2839 [==============================] - 101s 36ms/step - loss: 6.0457e-04 - val_loss: 6.7008e-04\n",
      "Epoch 55/100\n",
      "2839/2839 [==============================] - 101s 36ms/step - loss: 6.0036e-04 - val_loss: 6.3344e-04\n",
      "Epoch 56/100\n",
      "2839/2839 [==============================] - 101s 35ms/step - loss: 5.9084e-04 - val_loss: 6.8454e-04\n",
      "Epoch 57/100\n",
      "2839/2839 [==============================] - 99s 35ms/step - loss: 5.8519e-04 - val_loss: 6.6104e-04\n",
      "Epoch 58/100\n",
      "2839/2839 [==============================] - 98s 35ms/step - loss: 5.7685e-04 - val_loss: 6.3497e-04\n",
      "Epoch 59/100\n",
      "2839/2839 [==============================] - 97s 34ms/step - loss: 5.7201e-04 - val_loss: 5.8698e-04\n",
      "Epoch 60/100\n",
      "2839/2839 [==============================] - 99s 35ms/step - loss: 5.6318e-04 - val_loss: 6.2240e-04\n",
      "Epoch 61/100\n",
      "2839/2839 [==============================] - 99s 35ms/step - loss: 5.5604e-04 - val_loss: 6.1217e-04\n",
      "Epoch 62/100\n",
      "2839/2839 [==============================] - 131s 46ms/step - loss: 5.5280e-04 - val_loss: 5.5810e-04\n",
      "Epoch 63/100\n",
      "2839/2839 [==============================] - 148s 52ms/step - loss: 5.4547e-04 - val_loss: 5.7131e-04\n",
      "Epoch 64/100\n",
      "2839/2839 [==============================] - 146s 51ms/step - loss: 5.3789e-04 - val_loss: 5.6078e-04\n",
      "Epoch 65/100\n",
      "2839/2839 [==============================] - 145s 51ms/step - loss: 5.3326e-04 - val_loss: 5.6544e-04\n",
      "Epoch 66/100\n",
      "2839/2839 [==============================] - 148s 52ms/step - loss: 5.2709e-04 - val_loss: 5.6603e-04\n",
      "Epoch 67/100\n",
      "2839/2839 [==============================] - 150s 53ms/step - loss: 5.2223e-04 - val_loss: 5.4625e-04\n",
      "Epoch 68/100\n",
      "2839/2839 [==============================] - 151s 53ms/step - loss: 5.1835e-04 - val_loss: 5.5928e-04\n",
      "Epoch 69/100\n",
      "2839/2839 [==============================] - 150s 53ms/step - loss: 5.1304e-04 - val_loss: 5.6667e-04\n",
      "Epoch 70/100\n",
      "2839/2839 [==============================] - 150s 53ms/step - loss: 5.0636e-04 - val_loss: 5.6647e-04\n",
      "Epoch 71/100\n",
      "2839/2839 [==============================] - 150s 53ms/step - loss: 5.0197e-04 - val_loss: 5.3997e-04\n",
      "Epoch 72/100\n",
      "2839/2839 [==============================] - 151s 53ms/step - loss: 4.9875e-04 - val_loss: 5.1954e-04\n",
      "Epoch 73/100\n",
      "2839/2839 [==============================] - 152s 54ms/step - loss: 4.9096e-04 - val_loss: 5.6673e-04\n",
      "Epoch 74/100\n"
     ]
    },
    {
     "name": "stdout",
     "output_type": "stream",
     "text": [
      "2839/2839 [==============================] - 151s 53ms/step - loss: 4.8639e-04 - val_loss: 5.7183e-04\n",
      "Epoch 75/100\n",
      "2839/2839 [==============================] - 152s 54ms/step - loss: 4.8033e-04 - val_loss: 5.3827e-04\n",
      "Epoch 76/100\n",
      "2839/2839 [==============================] - 153s 54ms/step - loss: 4.7834e-04 - val_loss: 5.1229e-04\n",
      "Epoch 77/100\n",
      "2839/2839 [==============================] - 151s 53ms/step - loss: 4.7197e-04 - val_loss: 5.0438e-04\n",
      "Epoch 78/100\n",
      "2839/2839 [==============================] - 152s 53ms/step - loss: 4.6804e-04 - val_loss: 5.4878e-04\n",
      "Epoch 79/100\n",
      "2839/2839 [==============================] - 151s 53ms/step - loss: 4.6364e-04 - val_loss: 5.2790e-04\n",
      "Epoch 80/100\n",
      "2839/2839 [==============================] - 149s 52ms/step - loss: 4.5949e-04 - val_loss: 4.8346e-04\n",
      "Epoch 81/100\n",
      "2839/2839 [==============================] - 151s 53ms/step - loss: 4.5603e-04 - val_loss: 4.9635e-04\n",
      "Epoch 82/100\n",
      "2839/2839 [==============================] - 151s 53ms/step - loss: 4.5047e-04 - val_loss: 5.1312e-04\n",
      "Epoch 83/100\n",
      "2839/2839 [==============================] - 150s 53ms/step - loss: 4.4923e-04 - val_loss: 5.0195e-04\n",
      "Epoch 84/100\n",
      "2839/2839 [==============================] - 149s 52ms/step - loss: 4.4284e-04 - val_loss: 4.9077e-04\n",
      "Epoch 85/100\n",
      "2839/2839 [==============================] - 148s 52ms/step - loss: 4.4073e-04 - val_loss: 4.8008e-04\n",
      "Epoch 86/100\n",
      "2839/2839 [==============================] - 147s 52ms/step - loss: 4.3705e-04 - val_loss: 4.6202e-04\n",
      "Epoch 87/100\n",
      "2839/2839 [==============================] - 148s 52ms/step - loss: 4.3278e-04 - val_loss: 4.7573e-04\n",
      "Epoch 88/100\n",
      "2839/2839 [==============================] - 147s 52ms/step - loss: 4.2958e-04 - val_loss: 4.6820e-04\n",
      "Epoch 89/100\n",
      "2839/2839 [==============================] - 149s 52ms/step - loss: 4.2616e-04 - val_loss: 4.5286e-04\n",
      "Epoch 90/100\n",
      "2839/2839 [==============================] - 149s 52ms/step - loss: 4.2188e-04 - val_loss: 4.4906e-04\n",
      "Epoch 91/100\n",
      "2839/2839 [==============================] - 146s 52ms/step - loss: 4.1892e-04 - val_loss: 4.4160e-04\n",
      "Epoch 92/100\n",
      "2839/2839 [==============================] - 148s 52ms/step - loss: 4.1608e-04 - val_loss: 4.5903e-04\n",
      "Epoch 93/100\n",
      "2839/2839 [==============================] - 149s 52ms/step - loss: 4.1196e-04 - val_loss: 4.5861e-04\n",
      "Epoch 94/100\n",
      "2839/2839 [==============================] - 149s 52ms/step - loss: 4.0730e-04 - val_loss: 4.3577e-04\n",
      "Epoch 95/100\n",
      "2839/2839 [==============================] - 149s 52ms/step - loss: 4.0284e-04 - val_loss: 4.3729e-04\n",
      "Epoch 96/100\n",
      "2839/2839 [==============================] - 150s 53ms/step - loss: 4.0258e-04 - val_loss: 4.4553e-04\n",
      "Epoch 97/100\n",
      "2839/2839 [==============================] - 150s 53ms/step - loss: 3.9842e-04 - val_loss: 4.2630e-04\n",
      "Epoch 98/100\n",
      "2839/2839 [==============================] - 152s 54ms/step - loss: 3.9423e-04 - val_loss: 4.5992e-04\n",
      "Epoch 99/100\n",
      "2839/2839 [==============================] - 151s 53ms/step - loss: 3.9295e-04 - val_loss: 4.4398e-04\n",
      "Epoch 100/100\n",
      "2839/2839 [==============================] - 150s 53ms/step - loss: 3.9044e-04 - val_loss: 4.0273e-04\n"
     ]
    }
   ],
   "source": [
    "LSTM_history=LSTM_model.fit(x_train,y_train,batch_size=10,epochs=100,validation_data=(x_val,y_val),callbacks=[callback])\n"
   ]
  },
  {
   "cell_type": "code",
   "execution_count": 73,
   "id": "59cd00f6",
   "metadata": {},
   "outputs": [
    {
     "data": {
      "image/png": "[encoded data removed]",
      "text/plain": [
       "<Figure size 432x288 with 1 Axes>"
      ]
     },
     "metadata": {
      "needs_background": "light"
     },
     "output_type": "display_data"
    }
   ],
   "source": [
    "# summarize history for loss\n",
    "plt.plot(LSTM_history.history['loss'])\n",
    "plt.plot(LSTM_history.history['val_loss'])\n",
    "plt.title('model loss\\n'+str(in_len)+'_'+str(out_len))\n",
    "plt.ylabel('loss')\n",
    "plt.xlabel('epoch')\n",
    "plt.legend(['train', 'Validation'], loc='upper left')\n",
    "plt.show()"
   ]
  },
  {
   "cell_type": "code",
   "execution_count": 74,
   "id": "7290ada1",
   "metadata": {},
   "outputs": [
    {
     "name": "stdout",
     "output_type": "stream",
     "text": [
      "124/124 [==============================] - 2s 14ms/step\n"
     ]
    }
   ],
   "source": [
    "predictions=LSTM_model.predict(x_test)"
   ]
  },
  {
   "cell_type": "code",
   "execution_count": 75,
   "id": "b67848d4",
   "metadata": {},
   "outputs": [
    {
     "data": {
      "text/plain": [
       "(3943, 30, 22)"
      ]
     },
     "execution_count": 75,
     "metadata": {},
     "output_type": "execute_result"
    }
   ],
   "source": [
    "predictions.shape"
   ]
  },
  {
   "cell_type": "code",
   "execution_count": 76,
   "id": "cad92c0a",
   "metadata": {
    "scrolled": true
   },
   "outputs": [
    {
     "name": "stdout",
     "output_type": "stream",
     "text": [
      "887/887 [==============================] - 14s 16ms/step\n"
     ]
    },
    {
     "data": {
      "text/plain": [
       "0.9783749607714434"
      ]
     },
     "execution_count": 76,
     "metadata": {},
     "output_type": "execute_result"
    }
   ],
   "source": [
    "np.corrcoef((flatten(flatten(y_train))),flatten(flatten(LSTM_model.predict(x_train))))[0,1]**2"
   ]
  },
  {
   "cell_type": "code",
   "execution_count": 77,
   "id": "6b158d61",
   "metadata": {},
   "outputs": [
    {
     "data": {
      "text/plain": [
       "0.9013742890337167"
      ]
     },
     "execution_count": 77,
     "metadata": {},
     "output_type": "execute_result"
    }
   ],
   "source": [
    "np.corrcoef((flatten(flatten(y_test))),flatten(flatten(predictions)))[0,1]**2"
   ]
  },
  {
   "cell_type": "code",
   "execution_count": 78,
   "id": "2b1cde33",
   "metadata": {},
   "outputs": [
    {
     "name": "stdout",
     "output_type": "stream",
     "text": [
      "887/887 [==============================] - 14s 16ms/step\n",
      "R-Square value from train:  0.9782397133089553\n",
      "887/887 [==============================] - 15s 16ms/step\n",
      "max deviation train:  0.2631794739031923\n",
      "222/222 [==============================] - 4s 16ms/step\n",
      "R-Square value from val:  0.9755373755109801\n",
      "222/222 [==============================] - 4s 16ms/step\n",
      "max deviation val:  0.25737544350053976\n",
      "124/124 [==============================] - 2s 16ms/step\n",
      "R-Square value from test:  0.900670748297303\n",
      "124/124 [==============================] - 2s 16ms/step\n",
      "max deviation test:  0.36752173242893305\n"
     ]
    }
   ],
   "source": [
    "from sklearn.metrics import r2_score \n",
    "print(\"R-Square value from train: \",r2_score((flatten(flatten(y_train))),flatten(flatten(LSTM_model.predict(x_train)))))\n",
    "print(\"max deviation train: \",max(np.subtract((flatten(flatten(y_train))),flatten(flatten(LSTM_model.predict(x_train))))))\n",
    "\n",
    "print(\"R-Square value from val: \",r2_score((flatten(flatten(y_val))),flatten(flatten(LSTM_model.predict(x_val)))))\n",
    "print(\"max deviation val: \",max(np.subtract((flatten(flatten(y_val))),flatten(flatten(LSTM_model.predict(x_val))))))\n",
    "\n",
    "print(\"R-Square value from test: \",r2_score((flatten(flatten(y_test))),flatten(flatten(LSTM_model.predict(x_test)))))\n",
    "print(\"max deviation test: \",max(np.subtract((flatten(flatten(y_test))),flatten(flatten(LSTM_model.predict(x_test))))))\n"
   ]
  },
  {
   "cell_type": "code",
   "execution_count": 79,
   "id": "9d838cd7",
   "metadata": {},
   "outputs": [
    {
     "name": "stdout",
     "output_type": "stream",
     "text": [
      "INFO:tensorflow:Assets written to: E:/1014/NFL_Analysis/Simulation_models/New_model/model_2_30\\assets\n"
     ]
    }
   ],
   "source": [
    "LSTM_model.save('E:/1014/NFL_Analysis/Simulation_models/New_model/model_'+str(in_len)+'_'+str(out_len))"
   ]
  },
  {
   "cell_type": "code",
   "execution_count": null,
   "id": "a137e416",
   "metadata": {},
   "outputs": [],
   "source": []
  },
  {
   "cell_type": "code",
   "execution_count": 80,
   "id": "e91a030b",
   "metadata": {},
   "outputs": [
    {
     "data": {
      "image/png": "[encoded data removed]",
      "text/plain": [
       "<Figure size 720x432 with 1 Axes>"
      ]
     },
     "metadata": {
      "needs_background": "light"
     },
     "output_type": "display_data"
    }
   ],
   "source": [
    "n=1\n",
    "\n",
    "fig, ax = plt.subplots(figsize=(10, 6))\n",
    "\n",
    "for t in range(30):\n",
    "    for player in range(11):\n",
    "        ax.scatter(predictions[n][t][player],predictions[n][t][player+1],c='y',s=100)\n",
    "        ax.scatter(y_test[n][t][player],y_test[n][t][player+1],c='b',s=100)\n",
    "        \n",
    "  "
   ]
  },
  {
   "cell_type": "code",
   "execution_count": null,
   "id": "b8bec714",
   "metadata": {},
   "outputs": [],
   "source": []
  },
  {
   "cell_type": "code",
   "execution_count": null,
   "id": "015a15d6",
   "metadata": {},
   "outputs": [],
   "source": [
    "plt.scatter((flatten(flatten(y_test))),flatten(flatten(model_enc_dec_cnn.predict(x_test))))"
   ]
  },
  {
   "cell_type": "code",
   "execution_count": null,
   "id": "ed32d939",
   "metadata": {},
   "outputs": [],
   "source": [
    "plt.scatter(flatten(y_test[:,4,:]),flatten(predictions[:,4,:]))"
   ]
  },
  {
   "cell_type": "code",
   "execution_count": 112,
   "id": "3f901ce5",
   "metadata": {},
   "outputs": [],
   "source": [
    "import seaborn as sns\n"
   ]
  },
  {
   "cell_type": "code",
   "execution_count": 113,
   "id": "298ae633",
   "metadata": {},
   "outputs": [
    {
     "data": {
      "text/plain": [
       "<AxesSubplot:ylabel='Count'>"
      ]
     },
     "execution_count": 113,
     "metadata": {},
     "output_type": "execute_result"
    },
    {
     "data": {
      "image/png": "[encoded data removed]",
      "text/plain": [
       "<Figure size 640x480 with 1 Axes>"
      ]
     },
     "metadata": {},
     "output_type": "display_data"
    }
   ],
   "source": [
    "error= np.subtract(flatten(y_test[:,0,:]),flatten(predictions[:,0,:]))\n",
    "sns.histplot(error,color='red')\n",
    "sns.histplot(np.subtract(flatten(y_test[:,4,:]),flatten(predictions[:,4,:])),color='blue')"
   ]
  },
  {
   "cell_type": "code",
   "execution_count": 116,
   "id": "450f52d1",
   "metadata": {},
   "outputs": [
    {
     "data": {
      "text/plain": [
       "(10929, 10, 22)"
      ]
     },
     "execution_count": 116,
     "metadata": {},
     "output_type": "execute_result"
    }
   ],
   "source": [
    "y_test.shape"
   ]
  },
  {
   "cell_type": "code",
   "execution_count": 117,
   "id": "8a0d176e",
   "metadata": {},
   "outputs": [],
   "source": [
    "error_step1= np.subtract(flatten(y_test[:,0,:]),flatten(predictions[:,0,:]))\n",
    "error_step2= np.subtract(flatten(y_test[:,2,:]),flatten(predictions[:,2,:]))\n",
    "error_step3= np.subtract(flatten(y_test[:,4,:]),flatten(predictions[:,4,:]))\n",
    "error_step4= np.subtract(flatten(y_test[:,6,:]),flatten(predictions[:,6,:]))\n",
    "error_step5= np.subtract(flatten(y_test[:,8,:]),flatten(predictions[:,8,:]))\n"
   ]
  },
  {
   "cell_type": "code",
   "execution_count": 119,
   "id": "c572e887",
   "metadata": {
    "scrolled": false
   },
   "outputs": [
    {
     "name": "stderr",
     "output_type": "stream",
     "text": [
      "C:\\study_tools\\envs\\DL\\lib\\site-packages\\ipykernel_launcher.py:1: UserWarning: \n",
      "\n",
      "`distplot` is a deprecated function and will be removed in seaborn v0.14.0.\n",
      "\n",
      "Please adapt your code to use either `displot` (a figure-level function with\n",
      "similar flexibility) or `kdeplot` (an axes-level function for kernel density plots).\n",
      "\n",
      "For a guide to updating your code to use the new functions, please see\n",
      "https://gist.github.com/mwaskom/de44147ed2974457ad6372750bbe5751\n",
      "\n",
      "  \"\"\"Entry point for launching an IPython kernel.\n",
      "C:\\study_tools\\envs\\DL\\lib\\site-packages\\ipykernel_launcher.py:2: UserWarning: \n",
      "\n",
      "`distplot` is a deprecated function and will be removed in seaborn v0.14.0.\n",
      "\n",
      "Please adapt your code to use either `displot` (a figure-level function with\n",
      "similar flexibility) or `kdeplot` (an axes-level function for kernel density plots).\n",
      "\n",
      "For a guide to updating your code to use the new functions, please see\n",
      "https://gist.github.com/mwaskom/de44147ed2974457ad6372750bbe5751\n",
      "\n",
      "  \n",
      "C:\\study_tools\\envs\\DL\\lib\\site-packages\\ipykernel_launcher.py:3: UserWarning: \n",
      "\n",
      "`distplot` is a deprecated function and will be removed in seaborn v0.14.0.\n",
      "\n",
      "Please adapt your code to use either `displot` (a figure-level function with\n",
      "similar flexibility) or `kdeplot` (an axes-level function for kernel density plots).\n",
      "\n",
      "For a guide to updating your code to use the new functions, please see\n",
      "https://gist.github.com/mwaskom/de44147ed2974457ad6372750bbe5751\n",
      "\n",
      "  This is separate from the ipykernel package so we can avoid doing imports until\n",
      "C:\\study_tools\\envs\\DL\\lib\\site-packages\\ipykernel_launcher.py:4: UserWarning: \n",
      "\n",
      "`distplot` is a deprecated function and will be removed in seaborn v0.14.0.\n",
      "\n",
      "Please adapt your code to use either `displot` (a figure-level function with\n",
      "similar flexibility) or `kdeplot` (an axes-level function for kernel density plots).\n",
      "\n",
      "For a guide to updating your code to use the new functions, please see\n",
      "https://gist.github.com/mwaskom/de44147ed2974457ad6372750bbe5751\n",
      "\n",
      "  after removing the cwd from sys.path.\n",
      "C:\\study_tools\\envs\\DL\\lib\\site-packages\\ipykernel_launcher.py:5: UserWarning: \n",
      "\n",
      "`distplot` is a deprecated function and will be removed in seaborn v0.14.0.\n",
      "\n",
      "Please adapt your code to use either `displot` (a figure-level function with\n",
      "similar flexibility) or `kdeplot` (an axes-level function for kernel density plots).\n",
      "\n",
      "For a guide to updating your code to use the new functions, please see\n",
      "https://gist.github.com/mwaskom/de44147ed2974457ad6372750bbe5751\n",
      "\n",
      "  \"\"\"\n"
     ]
    },
    {
     "data": {
      "image/png": "[encoded data removed]",
      "text/plain": [
       "<Figure size 640x480 with 1 Axes>"
      ]
     },
     "metadata": {},
     "output_type": "display_data"
    }
   ],
   "source": [
    "\n",
    "sns.distplot(error_step1,color='violet',hist=False,label='1')\n",
    "sns.distplot(error_step2,color='red',hist=False,label='3')\n",
    "sns.distplot(error_step3,color='blue',hist=False,label='5')\n",
    "sns.distplot(error_step4,color='green',hist=False,label='7')\n",
    "sns.distplot(error_step5,color='brown',hist=False,label='9')\n",
    "\n",
    "plt.legend(title=\"Step ahead forecast\")\n",
    "plt.show()"
   ]
  },
  {
   "cell_type": "code",
   "execution_count": null,
   "id": "f1aef229",
   "metadata": {},
   "outputs": [],
   "source": []
  },
  {
   "cell_type": "code",
   "execution_count": null,
   "id": "e7f0550a",
   "metadata": {},
   "outputs": [],
   "source": []
  }
 ],
 "metadata": {
  "kernelspec": {
   "display_name": "Python 3 (ipykernel)",
   "language": "python",
   "name": "python3"
  },
  "language_info": {
   "codemirror_mode": {
    "name": "ipython",
    "version": 3
   },
   "file_extension": ".py",
   "mimetype": "text/x-python",
   "name": "python",
   "nbconvert_exporter": "python",
   "pygments_lexer": "ipython3",
   "version": "3.7.13"
  }
 },
 "nbformat": 4,
 "nbformat_minor": 5
}
