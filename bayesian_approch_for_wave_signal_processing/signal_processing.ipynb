{
 "cells": [
  {
   "cell_type": "code",
   "execution_count": 2,
   "id": "2beebe41-4a36-4e2d-90ae-adc0aae47af9",
   "metadata": {},
   "outputs": [
    {
     "name": "stdout",
     "output_type": "stream",
     "text": [
      "S001R01.edf already exists.\n"
     ]
    },
    {
     "ename": "OSError",
     "evalue": "S001R01.edf: a read error occurred",
     "output_type": "error",
     "traceback": [
      "\u001b[0;31m---------------------------------------------------------------------------\u001b[0m",
      "\u001b[0;31mOSError\u001b[0m                                   Traceback (most recent call last)",
      "Cell \u001b[0;32mIn[2], line 50\u001b[0m\n\u001b[1;32m     47\u001b[0m download_data(dataset_url, file_name)\n\u001b[1;32m     49\u001b[0m \u001b[38;5;66;03m# Load the data into a pandas DataFrame\u001b[39;00m\n\u001b[0;32m---> 50\u001b[0m emg_data \u001b[38;5;241m=\u001b[39m \u001b[43mload_edf\u001b[49m\u001b[43m(\u001b[49m\u001b[43mfile_name\u001b[49m\u001b[43m)\u001b[49m\n\u001b[1;32m     52\u001b[0m \u001b[38;5;66;03m# Display basic information about the data\u001b[39;00m\n\u001b[1;32m     53\u001b[0m \u001b[38;5;28;01mif\u001b[39;00m emg_data \u001b[38;5;129;01mis\u001b[39;00m \u001b[38;5;129;01mnot\u001b[39;00m \u001b[38;5;28;01mNone\u001b[39;00m:\n",
      "Cell \u001b[0;32mIn[2], line 30\u001b[0m, in \u001b[0;36mload_edf\u001b[0;34m(file_path)\u001b[0m\n\u001b[1;32m     27\u001b[0m \u001b[38;5;28;01mimport\u001b[39;00m \u001b[38;5;21;01mpyedflib\u001b[39;00m  \u001b[38;5;66;03m# Install this with 'pip install pyEDFlib'\u001b[39;00m\n\u001b[1;32m     29\u001b[0m \u001b[38;5;66;03m# Open the EDF file\u001b[39;00m\n\u001b[0;32m---> 30\u001b[0m f \u001b[38;5;241m=\u001b[39m \u001b[43mpyedflib\u001b[49m\u001b[38;5;241;43m.\u001b[39;49m\u001b[43mEdfReader\u001b[49m\u001b[43m(\u001b[49m\u001b[43mfile_path\u001b[49m\u001b[43m)\u001b[49m\n\u001b[1;32m     31\u001b[0m n \u001b[38;5;241m=\u001b[39m f\u001b[38;5;241m.\u001b[39msignals_in_file\n\u001b[1;32m     32\u001b[0m signal_labels \u001b[38;5;241m=\u001b[39m f\u001b[38;5;241m.\u001b[39mgetSignalLabels()\n",
      "File \u001b[0;32mpyedflib/_extensions/_pyedflib.pyx:145\u001b[0m, in \u001b[0;36mpyedflib._extensions._pyedflib.CyEdfReader.__init__\u001b[0;34m()\u001b[0m\n",
      "File \u001b[0;32mpyedflib/_extensions/_pyedflib.pyx:208\u001b[0m, in \u001b[0;36mpyedflib._extensions._pyedflib.CyEdfReader.open\u001b[0;34m()\u001b[0m\n",
      "File \u001b[0;32mpyedflib/_extensions/_pyedflib.pyx:180\u001b[0m, in \u001b[0;36mpyedflib._extensions._pyedflib.CyEdfReader.check_open_ok\u001b[0;34m()\u001b[0m\n",
      "\u001b[0;31mOSError\u001b[0m: S001R01.edf: a read error occurred"
     ]
    }
   ],
   "source": [
    "import os\n",
    "import requests\n",
    "import pandas as pd\n",
    "\n",
    "# URL of the dataset (for example: EMG/EEG data from PhysioNet)\n",
    "dataset_url = 'https://physionet.org/files/emgdb/1.0.0/S001/S001R01.edf'\n",
    "\n",
    "# File name to save the downloaded data\n",
    "file_name = 'S001R01.edf'\n",
    "\n",
    "# Download the data\n",
    "def download_data(url, file_name):\n",
    "    if not os.path.exists(file_name):\n",
    "        print(f\"Downloading {file_name} from {url}...\")\n",
    "        response = requests.get(url, stream=True)\n",
    "        with open(file_name, 'wb') as file:\n",
    "            for chunk in response.iter_content(chunk_size=1024):\n",
    "                if chunk:\n",
    "                    file.write(chunk)\n",
    "        print(f\"Download completed: {file_name}\")\n",
    "    else:\n",
    "        print(f\"{file_name} already exists.\")\n",
    "\n",
    "# Function to load EDF file (for EEG/EMG data)\n",
    "def load_edf(file_path):\n",
    "    try:\n",
    "        import pyedflib  # Install this with 'pip install pyEDFlib'\n",
    "        \n",
    "        # Open the EDF file\n",
    "        f = pyedflib.EdfReader(file_path)\n",
    "        n = f.signals_in_file\n",
    "        signal_labels = f.getSignalLabels()\n",
    "        signals = {}\n",
    "        \n",
    "        # Reading each signal from the file\n",
    "        for i in range(n):\n",
    "            signals[signal_labels[i]] = f.readSignal(i)\n",
    "        \n",
    "        # Converting to DataFrame for easy analysis\n",
    "        data = pd.DataFrame(signals)\n",
    "        f._close()\n",
    "        return data\n",
    "    except ImportError:\n",
    "        print(\"pyedflib is required for reading EDF files. Please install it using `pip install pyEDFlib`.\")\n",
    "\n",
    "# Download the data\n",
    "download_data(dataset_url, file_name)\n",
    "\n",
    "# Load the data into a pandas DataFrame\n",
    "emg_data = load_edf(file_name)\n",
    "\n",
    "# Display basic information about the data\n",
    "if emg_data is not None:\n",
    "    print(emg_data.head())\n",
    "    print(emg_data.describe())\n"
   ]
  },
  {
   "cell_type": "code",
   "execution_count": null,
   "id": "2ae698c5-136f-4742-89cc-55e4d880c314",
   "metadata": {},
   "outputs": [],
   "source": []
  }
 ],
 "metadata": {
  "kernelspec": {
   "display_name": "Python 3 (ipykernel)",
   "language": "python",
   "name": "python3"
  },
  "language_info": {
   "codemirror_mode": {
    "name": "ipython",
    "version": 3
   },
   "file_extension": ".py",
   "mimetype": "text/x-python",
   "name": "python",
   "nbconvert_exporter": "python",
   "pygments_lexer": "ipython3",
   "version": "3.9.18"
  }
 },
 "nbformat": 4,
 "nbformat_minor": 5
}
