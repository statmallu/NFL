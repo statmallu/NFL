{
 "cells": [
  {
   "cell_type": "markdown",
   "id": "0845c1a0",
   "metadata": {},
   "source": [
    "# Bayesian Signal Denoising and Parameter Optimization for Gravitational Wave Detection in LIGO Data"
   ]
  },
  {
   "cell_type": "markdown",
   "id": "c84596ce",
   "metadata": {},
   "source": [
    "### Project Overview\n",
    "This project focuses on the detection and analysis of gravitational wave signals using the LIGO Gravitational Wave Data. Gravitational waves, first predicted by Albert Einstein in 1916, are ripples in spacetime caused by massive astronomical events, such as the merging of black holes. The dataset used in this project corresponds to the first-ever direct detection of gravitational waves, event GW150914, observed by the LIGO detectors on September 14, 2015. This event marked a major scientific breakthrough, confirming a key prediction of Einstein's theory of General Relativity. The uniqueness of this data lies in its historical significance and its inherent challenge: distinguishing a faint gravitational wave signal from background noise. By applying advanced techniques such as Bayesian inference, Gaussian Mixture Models, and Monte Carlo simulations, we aim to optimize the extraction of these weak signals, explore the underlying astrophysical parameters, and improve the detection capabilities of such rare and critical events. This project demonstrates how data science and statistical methods can contribute to cutting-edge scientific discoveries."
   ]
  },
  {
   "cell_type": "markdown",
   "id": "0522ace0",
   "metadata": {},
   "source": [
    "### Data Source\n",
    "The data for this project will be sourced from the LIGO Open Science Center (LOSC), which provides publicly available data from the LIGO experiment. This project will specifically focus on the data related to the first detected gravitational wave event, GW150914, as a case study for applying signal processing and optimization techniques.\n",
    "Data can be accessed at: LIGO Open Science Center.\n"
   ]
  },
  {
   "cell_type": "code",
   "execution_count": 1,
   "id": "52e2a1e3",
   "metadata": {},
   "outputs": [
    {
     "ename": "ModuleNotFoundError",
     "evalue": "No module named 'pycbc'",
     "output_type": "error",
     "traceback": [
      "\u001b[1;31m---------------------------------------------------------------------------\u001b[0m",
      "\u001b[1;31mModuleNotFoundError\u001b[0m                       Traceback (most recent call last)",
      "\u001b[1;32m~\\AppData\\Local\\Temp\\ipykernel_24708\\3879282581.py\u001b[0m in \u001b[0;36m<module>\u001b[1;34m\u001b[0m\n\u001b[0;32m      3\u001b[0m \u001b[1;32mimport\u001b[0m \u001b[0mnumpy\u001b[0m \u001b[1;32mas\u001b[0m \u001b[0mnp\u001b[0m\u001b[1;33m\u001b[0m\u001b[1;33m\u001b[0m\u001b[0m\n\u001b[0;32m      4\u001b[0m \u001b[1;32mimport\u001b[0m \u001b[0mmatplotlib\u001b[0m\u001b[1;33m.\u001b[0m\u001b[0mpyplot\u001b[0m \u001b[1;32mas\u001b[0m \u001b[0mplt\u001b[0m\u001b[1;33m\u001b[0m\u001b[1;33m\u001b[0m\u001b[0m\n\u001b[1;32m----> 5\u001b[1;33m \u001b[1;32mfrom\u001b[0m \u001b[0mpycbc\u001b[0m\u001b[1;33m.\u001b[0m\u001b[0mframe\u001b[0m \u001b[1;32mimport\u001b[0m \u001b[0mread_frame\u001b[0m\u001b[1;33m\u001b[0m\u001b[1;33m\u001b[0m\u001b[0m\n\u001b[0m\u001b[0;32m      6\u001b[0m \u001b[1;32mfrom\u001b[0m \u001b[0mpycbc\u001b[0m\u001b[1;33m.\u001b[0m\u001b[0mfilter\u001b[0m \u001b[1;32mimport\u001b[0m \u001b[0mhighpass\u001b[0m\u001b[1;33m\u001b[0m\u001b[1;33m\u001b[0m\u001b[0m\n\u001b[0;32m      7\u001b[0m \u001b[1;32mfrom\u001b[0m \u001b[0mpycbc\u001b[0m\u001b[1;33m.\u001b[0m\u001b[0mpsd\u001b[0m \u001b[1;32mimport\u001b[0m \u001b[0mwelch\u001b[0m\u001b[1;33m\u001b[0m\u001b[1;33m\u001b[0m\u001b[0m\n",
      "\u001b[1;31mModuleNotFoundError\u001b[0m: No module named 'pycbc'"
     ]
    }
   ],
   "source": [
    "import os\n",
    "import requests\n",
    "import numpy as np\n",
    "import matplotlib.pyplot as plt\n",
    "from pycbc.frame import read_frame\n",
    "from pycbc.filter import highpass\n",
    "from pycbc.psd import welch\n",
    "from pycbc.types import TimeSeries"
   ]
  },
  {
   "cell_type": "code",
   "execution_count": null,
   "id": "117b5c7f",
   "metadata": {},
   "outputs": [],
   "source": [
    "# URL for the specific LIGO dataset\n",
    "ligo_data_url = 'https://www.gw-openscience.org/s/events/GW150914/H-H1_LOSC_4_V1-1126259446-32.gwf'\n",
    "file_name = 'H-H1_LOSC_4_V1-1126259446-32.gwf'\n",
    "channel_name = 'H1:GWOSC-4KHZ_R1_STRAIN'"
   ]
  },
  {
   "cell_type": "code",
   "execution_count": null,
   "id": "66afd87d",
   "metadata": {},
   "outputs": [],
   "source": [
    "# Step 1: Download the file if not already present\n",
    "def download_ligo_data(url, file_name):\n",
    "    if not os.path.exists(file_name):\n",
    "        print(f\"Downloading {file_name}...\")\n",
    "        response = requests.get(url, stream=True)\n",
    "        with open(file_name, 'wb') as f:\n",
    "            for chunk in response.iter_content(chunk_size=8192):\n",
    "                if chunk:\n",
    "                    f.write(chunk)\n",
    "        print(f\"Download complete: {file_name}\")\n",
    "    else:\n",
    "        print(f\"File already exists: {file_name}\")\n",
    "\n",
    "# Step 2: Load the Gravitational Wave Data\n",
    "def load_ligo_data(file_path, channel_name):\n",
    "    # Reading the gravitational wave strain data from the frame file\n",
    "    strain_data = read_frame(file_path, channel_name)\n",
    "    \n",
    "    # Convert to TimeSeries format\n",
    "    strain_data = TimeSeries(strain_data, delta_t=1.0/4096.0)\n",
    "    \n",
    "    print(f\"Data Loaded: {len(strain_data)} samples at {strain_data.sample_rate} Hz\")\n",
    "    \n",
    "    return strain_data\n",
    "\n",
    "# Step 3: Apply a Highpass Filter to Remove Low-Frequency Noise\n",
    "def apply_highpass_filter(data, cutoff=15.0):\n",
    "    filtered_data = highpass(data, cutoff, 8)\n",
    "    print(\"Highpass filter applied.\")\n",
    "    return filtered_data\n",
    "\n",
    "# Step 4: Estimate Power Spectral Density (Optional: Visualization)\n",
    "def estimate_psd(data, seg_length=4, avg_method='median'):\n",
    "    psd = welch(data, seg_length * data.sample_rate, avg_method=avg_method)\n",
    "    plt.loglog(psd.sample_frequencies, psd, label='Power Spectral Density')\n",
    "    plt.xlabel('Frequency [Hz]')\n",
    "    plt.ylabel('Strain^2/Hz')\n",
    "    plt.title('Power Spectral Density (PSD) of Gravitational Wave Data')\n",
    "    plt.show()\n",
    "    return psd\n",
    "\n",
    "# Step 5: Plot the Raw and Preprocessed Data (Optional)\n",
    "def plot_time_series(raw_data, filtered_data, title=\"Gravitational Wave Data\"):\n",
    "    plt.figure(figsize=(10, 6))\n",
    "    plt.subplot(2, 1, 1)\n",
    "    plt.plot(raw_data.times, raw_data, color='red', label='Raw Data')\n",
    "    plt.title(f'{title}: Raw Data')\n",
    "    plt.xlabel('Time [s]')\n",
    "    plt.ylabel('Strain')\n",
    "    \n",
    "    plt.subplot(2, 1, 2)\n",
    "    plt.plot(filtered_data.times, filtered_data, color='blue', label='Filtered Data')\n",
    "    plt.title(f'{title}: Highpass Filtered Data')\n",
    "    plt.xlabel('Time [s]')\n",
    "    plt.ylabel('Strain')\n",
    "    plt.tight_layout()\n",
    "    plt.show()"
   ]
  },
  {
   "cell_type": "code",
   "execution_count": null,
   "id": "cabd45ff",
   "metadata": {},
   "outputs": [],
   "source": [
    "# Main Execution\n",
    "\n",
    "# Step 1: Download the data\n",
    "download_ligo_data(ligo_data_url, file_name)\n",
    "\n",
    "# Step 2: Load the data\n",
    "strain_data = load_ligo_data(file_name, channel_name)\n",
    "\n",
    "# Step 3: Apply the highpass filter\n",
    "filtered_data = apply_highpass_filter(strain_data, cutoff=15.0)\n",
    "\n",
    "# Step 4: Estimate and plot the PSD\n",
    "psd = estimate_psd(filtered_data)\n",
    "\n",
    "# Step 5: Plot the raw and filtered time-series data\n",
    "plot_time_series(strain_data, filtered_data)"
   ]
  }
 ],
 "metadata": {
  "kernelspec": {
   "display_name": "Python 3 (ipykernel)",
   "language": "python",
   "name": "python3"
  },
  "language_info": {
   "codemirror_mode": {
    "name": "ipython",
    "version": 3
   },
   "file_extension": ".py",
   "mimetype": "text/x-python",
   "name": "python",
   "nbconvert_exporter": "python",
   "pygments_lexer": "ipython3",
   "version": "3.7.13"
  }
 },
 "nbformat": 4,
 "nbformat_minor": 5
}
